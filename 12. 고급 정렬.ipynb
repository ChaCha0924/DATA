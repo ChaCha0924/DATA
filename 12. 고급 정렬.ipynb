{
 "cells": [
  {
   "cell_type": "markdown",
   "id": "47bd2a05",
   "metadata": {},
   "source": [
    "## 12. 고급 정렬"
   ]
  },
  {
   "cell_type": "markdown",
   "id": "a29d5d0f",
   "metadata": {},
   "source": [
    "### 다양한 정렬 알고리즘\n",
    "- 정렬: 주어진 레코드를 킷값에 따라 순서대로 나열하는 것\n",
    " - 아래의 정렬은 간단한 알고리즘을 사용하지만 시간 복잡도가 O(n^2)로 비효율적\n",
    " - 선택 정렬: 입력의 크기에 따라 자료 이동 횟수가 결정됨\n",
    " - 삽입 정렬: 레코드의 많은 이동이 필요하지만 대부분의 레코드가 이미 정렬되어 있는 경우 효율적\n",
    " - 버블 정렬: 인접 요소를 교환하는 방식의 가장 간단한 알고리즘을 사용\n",
    "- 정렬해야 할 데이터가 많고 자주 정렬해야 한다면 효율적인 정렬 방법이 필요\n",
    " - 셸 정렬: 삽입 정렬 개념을 개선한 정렬\n",
    " - 힙 정렬: 추가적인 메모리 공간이 필요 없는 제자리 정렬로 구현하는 방법\n",
    " - 병합 정렬: 연속적인 분할과 병합을 이용하는 방법\n",
    " - 퀵 정렬, 이중피벗 퀵 정렬: 피벗을 이용한 정렬 방법으로 대표적인 효율적인 정렬 알고리즘\n",
    " - 기수 정렬, 카운팅 정렬: 항목의 비교를 사용하지 않고 분배를 이용해 정렬하는 방법이지만 적용할 수 있는 킷값에 제한이 있는 알고리즘"
   ]
  },
  {
   "cell_type": "markdown",
   "id": "b9d2f23b",
   "metadata": {},
   "source": [
    "### 셸 정렬\n",
    "- 삽입정렬이 어느 정도 정렬된 배열에 대해서는 대단히 빠른 점에 착안한 것\n",
    "- 어떤 항목이 삽입되어야 할 위치를 앞쪽으로 찾아나감\n",
    "- 배열 전체를 한꺼번에 정렬하지 않고 일종의 정처리를 하며 맨 마지막에 배열 정체를 정렬해야 할 때 많은 항목들이 이미 자신의 자리 근처에 있도록 만드는 과정으로, 처리시간을 줄이고자 함\n",
    "- 리스트를 일정한 기준에 따라 여러 개의 부분 리스트로 나누고, 각 부분 리스트를 삽입 정렬을 이용해 정렬\n",
    " - 각 부분 리스트는 전체 리스트에서 거리가 k만큼 떨어진 요소들로 이루어지고(= 간격), 부분리스트의 개수와 같음\n",
    " - 간격이 줄수록 하나의 부분 리스트에 속하는 요소의 개수가 많아짐\n",
    "- 셸 정렬의 장점\n",
    " - 삽입 정렬은 항상 간격이 1인데 비해 셸 정렬은 큰 간격의 리스트에서 자료의 교환이 일어나므로 한 번에 더 큰거리를 이동할 수 있음\n",
    " - 교환되는 항목들이 삽입 정렬보다 최종위치에 더 가까이 움직일 가능성이 높음\n",
    " - 간격이 1이면 전체 리스트를 삽입정렬로 정렬해야 하지만 삽입정렬이 거의 정렬된 리스트에 대해 효율적이므로 이 과정이 빠르게 수행됨\n",
    "- 셸 정렬의 시간 복잡도는 평균적인 경우 O(n^1.5)이지만 최악의 경우 O(n^2)"
   ]
  },
  {
   "cell_type": "code",
   "execution_count": 2,
   "id": "8c60273d",
   "metadata": {},
   "outputs": [],
   "source": [
    "def sortGapInsertion(A, first, last, gap) :\n",
    "    for i in range(first+gap, last+1, gap) :\n",
    "        key = A[i]\n",
    "        j = i - gap\n",
    "        while j >= first and key<A[j] :\n",
    "            A[j + gap] = A[j]\n",
    "            j = j - gap\n",
    "        A[j + gap] = key\n",
    "\n",
    "def shell_sort(A) : \n",
    "    n = len(A)\n",
    "    gap = n//2\n",
    "    while gap > 0 :\n",
    "        if (gap % 2) == 0 : gap += 1\n",
    "        for i in range(gap) :\n",
    "            sortGapInsertion(A, i, n - 1, gap)\n",
    "        print('     Gap=', gap, A)\n",
    "        gap = gap//2"
   ]
  },
  {
   "cell_type": "code",
   "execution_count": 3,
   "id": "7a1fe7b2",
   "metadata": {},
   "outputs": [
    {
     "name": "stdout",
     "output_type": "stream",
     "text": [
      "Original  : [7, 4, 9, 6, 3, 8, 7, 5]\n",
      "     Gap= 5 [7, 4, 5, 6, 3, 8, 7, 9]\n",
      "     Gap= 3 [6, 3, 5, 7, 4, 8, 7, 9]\n",
      "     Gap= 1 [3, 4, 5, 6, 7, 7, 8, 9]\n",
      "Shell     : [3, 4, 5, 6, 7, 7, 8, 9]\n"
     ]
    }
   ],
   "source": [
    "data = [ 7, 4, 9, 6, 3, 8, 7, 5]\n",
    "print(\"Original  :\", data)\n",
    "shell_sort(data)\n",
    "print(\"Shell     :\", data)"
   ]
  },
  {
   "cell_type": "markdown",
   "id": "de6b337b",
   "metadata": {},
   "source": [
    "### 힙 정렬\n",
    "- 힙: 우선순위 큐를 완전이진트리로 구현하는 방법\n",
    " - 최댓값이나 최솟값을 쉽게 추출할 수 있는 자료구조이기 때문에 힙을 이용하면 리스트를 간단히 정렬할 수 있음\n",
    "\n",
    "#### 힙을 이용한 정렬\n",
    "- 최대 힙은 가장 큰 항목부터 출력하므로 오름차순으로 정렬하기 위해서는 힙에서 꺼내는 항목들을 리스트의 맨 뒤에서부터 채워나가야 함에 유의해야 함\n",
    "- 힙의 삽입 연산과 삭제 연산의 시간 복잡도: O(log2n)\n",
    "- 정렬의 시간 복잡도: O(nlog2n)\n",
    " - 삽입, 선택, 버블 정렬 알고리즘의 시간 복잡도가 O(n^2)인 것과 비교하면 탁월\n",
    "- 입력 데이터의 모든 항목을 다른 메모리 공간인 힙에 모두 넣었다 빼야하기 때문에 입력 데이터의 크기에 비례하는 추가적인 메모리 공간이 필요\n",
    "\n",
    "#### 제자리 정렬로 구현한 힙 정렬\n",
    "- 힙 정렬을 추가적인 메모리를 사용하지 않는 제자리 정렬 방식으로도 구현할 수 있음\n",
    " - 입력 배열자체를 최대힙으로 먼저 만들고, 다름으로 오름차순으로 정렬시키는 방법\n",
    "- 정렬되지 않은 배열 -> 최대 힙 -> 정렬된 배열\n",
    "- 제자리 저렬로 구현한 힙 정렬의 시간 복잡도: O(nlog2n)\n",
    "- 힙 정렬은 전체 리스트 중에서 일부만 정렬할 필요가 있는 경우에 매우 유용\n",
    "- 힙 정렬은 장점은 최악의 경우에도 시간 복잡도가 O(nlog2n)으로 제한되고, 제자리 정렬로 구현할 수 있는 메모리가 필요없다는 점"
   ]
  },
  {
   "cell_type": "code",
   "execution_count": 8,
   "id": "413dc374",
   "metadata": {},
   "outputs": [],
   "source": [
    "def heapSort1(data):\n",
    "    heap = MaxHeap()\n",
    "    for n in data :             \n",
    "        heap.insert(n)\n",
    "\n",
    "    for i in range(1,len(data)+1):  \n",
    "        data[-i] = heap.delete()"
   ]
  },
  {
   "cell_type": "code",
   "execution_count": 5,
   "id": "f77d27e9",
   "metadata": {},
   "outputs": [],
   "source": [
    "def heapify(arr, n, i): \n",
    "    largest = i         \n",
    "    l = 2 * i + 1       \n",
    "    r = 2 * i + 2       \n",
    "  \n",
    "    if l < n and arr[i] < arr[l]: largest = l \n",
    "    if r < n and arr[largest] < arr[r]: largest = r \n",
    "    if largest != i: \n",
    "        arr[i],arr[largest] = arr[largest],arr[i] \n",
    "        heapify(arr, n, largest)      \n",
    "\n",
    "def heapSort(arr): \n",
    "    n = len(arr) \n",
    "    print(\"i=\", 0, arr)\n",
    "    for i in range(n//2, -1, -1): \n",
    "        heapify(arr, n, i) \n",
    "        print(\"i=\", i, arr)\n",
    "    print() \n",
    "\n",
    "    for i in range(n-1, 0, -1): \n",
    "        arr[i], arr[0] = arr[0], arr[i] \n",
    "        heapify(arr, i, 0) \n",
    "        print(\"i=\", i, arr)"
   ]
  },
  {
   "cell_type": "code",
   "execution_count": 7,
   "id": "931186b8",
   "metadata": {},
   "outputs": [
    {
     "name": "stdout",
     "output_type": "stream",
     "text": [
      "i= 0 [71, 49, 92, 55, 38, 82, 72, 53]\n",
      "i= 4 [71, 49, 92, 55, 38, 82, 72, 53]\n",
      "i= 3 [71, 49, 92, 55, 38, 82, 72, 53]\n",
      "i= 2 [71, 49, 92, 55, 38, 82, 72, 53]\n",
      "i= 1 [71, 55, 92, 53, 38, 82, 72, 49]\n",
      "i= 0 [92, 55, 82, 53, 38, 71, 72, 49]\n",
      "\n",
      "i= 7 [82, 55, 72, 53, 38, 71, 49, 92]\n",
      "i= 6 [72, 55, 71, 53, 38, 49, 82, 92]\n",
      "i= 5 [71, 55, 49, 53, 38, 72, 82, 92]\n",
      "i= 4 [55, 53, 49, 38, 71, 72, 82, 92]\n",
      "i= 3 [53, 38, 49, 55, 71, 72, 82, 92]\n",
      "i= 2 [49, 38, 53, 55, 71, 72, 82, 92]\n",
      "i= 1 [38, 49, 53, 55, 71, 72, 82, 92]\n",
      "HeapSort:  [38, 49, 53, 55, 71, 72, 82, 92]\n"
     ]
    }
   ],
   "source": [
    "arr = [71, 49, 92, 55, 38, 82, 72, 53 ]\n",
    "heapSort(arr) \n",
    "print (\"HeapSort: \", arr) "
   ]
  },
  {
   "cell_type": "markdown",
   "id": "e2c7acff",
   "metadata": {},
   "source": [
    "### 병합 정렬\n",
    "- :하나의 리스트를 두 개의 균등한 크기고 분할하고 분할된 부분 리스트를 정렬한 다음, 두 리스트를 합하여 전체가 정렬된 리스트를 만드는 방법\n",
    " - 분할 정복 기법에 바탕을 두고 있음\n",
    " - :하나의 문제를 작은 2개의 문제로 분리하고 각각 해결한 다음, 결과를 모아서 원래의 문제를 해결하는 전략\n",
    "- 병합 정렬의 주요 처리 과정\n",
    " - 분할: 입력 배열을 같은 2개의 부분 배열로 분할\n",
    " - 정복: 부분 배열을 정렬하며, 부분 배열의 크기가 충분히 작지 않으면 순환 호출을 이용하여 다시 분할 정복 기법을 적용(배열의 크기가 1이면 이미 정복된 것)\n",
    " - 병합: 정렬된 부분 배열들을 하나의 배열에 통합\n",
    "- 병합 정렬에서 실제로 정렬이 이루어지는 시점은 2개의 리스트를 병합하는 단계\n",
    "- 병합 정렬의 복잡도: O(nlog2n)\n",
    " - 매우 효율적인 정렬 방법의 하나\n",
    " - 병합 정렬은 순환 호출 구조로 되어 있음\n",
    "- 배열이 부분 배열로 나누어지는 단계에서는 비교 연산이나 이동 연산이 수행되지 않음\n",
    " - 부분 배열이 합쳐지는 merge 함수에서 비교 연산과 이동 연산이 수행됨\n",
    "- 병합 정렬은 입력 데이터가 어떻게 이루어져 있는지에 상관없이, 최악, 평균, 최선의 경우에도 모두 동일한 시간에 정렬됨\n",
    "- 추가적인 메모리가 필요하다는 단점이 존재"
   ]
  },
  {
   "cell_type": "code",
   "execution_count": 11,
   "id": "c41e2e41",
   "metadata": {},
   "outputs": [],
   "source": [
    "def merge_sort(A, left, right) :\n",
    "    if left<right :\n",
    "        mid = (left + right) // 2\n",
    "        merge_sort(A, left, mid)\n",
    "        merge_sort(A, mid + 1, right)\n",
    "        merge(A, left, mid, right)    \n",
    "\n",
    "def merge(A, left, mid, right) :\n",
    "    global sorted\n",
    "    k = left\n",
    "    i = left\n",
    "    j = mid + 1    \n",
    "    while i<=mid and j<=right :\n",
    "        if A[i] <= A[j] :\n",
    "            sorted[k] = A[i]\n",
    "            i, k = i+1, k+1\n",
    "        else:\n",
    "            sorted[k] = A[j]\n",
    "            j, k = j+1, k+1\n",
    "\n",
    "    if i > mid :\n",
    "        sorted[k:k+right-j+1] = A[j:right+1]\n",
    "    else :\n",
    "        sorted[k:k+mid-i+1] = A[i:mid+1]\n",
    "    A[left:right+1] = sorted[left:right+1]"
   ]
  },
  {
   "cell_type": "code",
   "execution_count": 12,
   "id": "781d1ee8",
   "metadata": {},
   "outputs": [
    {
     "name": "stdout",
     "output_type": "stream",
     "text": [
      "MergeSort:  [1, 2, 3, 4, 5, 6, 7, 8, 9]\n"
     ]
    }
   ],
   "source": [
    "sorted = []\n",
    "arr = [ 5, 3, 8, 4, 9, 1, 6, 2, 7 ]\n",
    "sorted = [0]*len(arr)\n",
    "merge_sort(arr, 0, len(arr)-1) \n",
    "print (\"MergeSort: \", arr) "
   ]
  },
  {
   "cell_type": "markdown",
   "id": "50fbd812",
   "metadata": {},
   "source": [
    "### 퀵 정렬\n",
    "- 평균적으로 매우 빠른 수행 속도를 자랑하는 정렬 방법\n",
    "- 병합 정렬과 같이 분할-정복법을 사용\n",
    " - 병합 정렬과 달리 리스트를 균등하게 분할할 필요는 없음\n",
    "- 퀵 정렬의 복잡도 \n",
    " - 최선의 경우(리스트 분할이 항상 리스트의 가운데에서 이루어지는 상황): O(nlog2n)\n",
    " - 최악의 경우(리스트가 게속 불균형하게 나누어지는 경우: 이미 정렬된 리스트): O(n^2)\n",
    " - 퀵 정렬의 평균적인 시간 복잡도는 O(nlog2n)이며, 다른 O(nlog2n)의 알고리즘과 비교해도 가장 빠름\n",
    " - 불필요한 데이터의 이동을 줄이고 먼 거리의 데이터를 교환하며, 한번 결정된 피벗들이 추후 연산에서 제외되는 등의 특징 때문"
   ]
  },
  {
   "cell_type": "code",
   "execution_count": 13,
   "id": "a2c4123f",
   "metadata": {},
   "outputs": [],
   "source": [
    "def quick_sort(A, left, right) :\n",
    "    if left<right :\n",
    "        q = partition(A, left, right)\n",
    "        quick_sort(A, left, q - 1)\n",
    "        quick_sort(A, q + 1, right)  \n",
    "\n",
    "def partition(A, left, right) :\n",
    "    low = left + 1       \n",
    "    high = right   \n",
    "    pivot = A[left]    \n",
    "    while (low <= high) :   \n",
    "        while low <= right and A[low] < pivot : low += 1\n",
    "        while high >= left and A[high]> pivot : high-= 1\n",
    "\n",
    "        if low < high :\n",
    "            A[low], A[high] = A[high], A[low]\n",
    "\n",
    "    A[left], A[high] = A[high], A[left]\n",
    "    return high      "
   ]
  },
  {
   "cell_type": "code",
   "execution_count": 14,
   "id": "3a77fa3b",
   "metadata": {},
   "outputs": [
    {
     "name": "stdout",
     "output_type": "stream",
     "text": [
      "quick_sort:  [1, 2, 3, 4, 5, 6, 7, 8, 9]\n"
     ]
    }
   ],
   "source": [
    "arr = [ 5, 3, 8, 4, 9, 1, 6, 2, 7 ]\n",
    "quick_sort(arr, 0, len(arr)-1) \n",
    "print (\"quick_sort: \", arr) "
   ]
  },
  {
   "cell_type": "markdown",
   "id": "a388ff0c",
   "metadata": {},
   "source": [
    "### 이중피벗 퀵 정렬\n",
    "- :퀵 정렬을 보완하여 2개의 피벗을 사용하는 퀵 정렬\n",
    "- 이중피벗 퀵 정렬의 이론적인 시간 복잡도는 퀵 정렬과 차이가 없고, 최악의 경우의 시간 복잡도도 O(n^2)로 좋지 않음\n",
    "- 일반적인 퀵 정렬보다 성능이 우수하다고 알려져 잇어 자바나 안드로이드 시스템 정렬로 사용됨"
   ]
  },
  {
   "cell_type": "code",
   "execution_count": 15,
   "id": "f630540e",
   "metadata": {},
   "outputs": [],
   "source": [
    "def dp_quick_sort(A, low, high) :\n",
    "    if low < high : \n",
    "        lp, rp = partitionDP(A, low, high)  \n",
    "        dp_quick_sort(A, low, lp-1)    \n",
    "        dp_quick_sort(A, lp+1, rp-1)   \n",
    "        dp_quick_sort(A, rp+1, high)   \n",
    "\n",
    "\n",
    "def partitionDP(A, low, high) :\n",
    "    if A[low] > A[high]:               \n",
    "        A[low], A[high] = A[high], A[low]\n",
    "\n",
    "    j = low + 1                     \n",
    "    g = high - 1                    \n",
    "    k = low + 1                     \n",
    "    lpVal = A[low]                  \n",
    "    rpVal = A[high]                 \n",
    "    while (k <= g) :\n",
    "        if (A[k] < lpVal) :         \n",
    "            A[k], A[j] = A[j], A[k] \n",
    "            j += 1 \n",
    "\n",
    "        elif (A[k] >= rpVal) :      \n",
    "            while (A[g] > rpVal  and  k < g): \n",
    "               g -= 1\n",
    "            A[k], A[g] = A[g], A[k]         \n",
    "            g -= 1\n",
    "\n",
    "            if (A[k] < lpVal) :             \n",
    "                A[k], A[j] = A[j], A[k]     \n",
    "                j += 1 \n",
    "        k += 1 \n",
    "\n",
    "    j -= 1 \n",
    "    g += 1 \n",
    "    A[low], A[j] = A[j], A[low]     \n",
    "    A[high], A[g] = A[g], A[high]   \n",
    "  \n",
    "    return j, g     "
   ]
  },
  {
   "cell_type": "code",
   "execution_count": 16,
   "id": "01c2bab5",
   "metadata": {},
   "outputs": [
    {
     "name": "stdout",
     "output_type": "stream",
     "text": [
      "dp_quick_sort:  [1, 2, 3, 4, 5, 6, 7, 8, 9]\n"
     ]
    }
   ],
   "source": [
    "arr = [ 5, 3, 8, 4, 9, 1, 6, 2, 7 ]\n",
    "dp_quick_sort(arr, 0, len(arr)-1) \n",
    "print (\"dp_quick_sort: \", arr) "
   ]
  },
  {
   "cell_type": "markdown",
   "id": "3fb4bfe4",
   "metadata": {},
   "source": [
    "### 기수 정렬\n",
    "- :지금까지의 정렬 방법들이 모두 레코드들을 비교하여 정렬한 것과 달리 입력 데이터에 대해서 어떤 비교 연산도 실행하지 않고 데이터를 정렬할 수 있는 색다른 정렬 기법\n",
    "- 다른 방법들이 O(nlog2n)이라는 비교기반 정렬의 이론적인 하한선을 깰 수 없는데 비해 기수 정렬은 하한선을 깰 수 있는 기법임\n",
    "- 기수 정렬의 시간 복잡도는 O(kn)이며, 대부분 k는 크지 않은 값을 갖게됨\n",
    "- 기수 정렬은 추가적인 메모리를 필요로하지만 다른 방법들보다 빠르기 대문에 상당히 인기 있는 정렬 기법 중의 하나\n",
    " - 기수: 숫자의 자릿수\n",
    "- 기수 정렬은 다단계 정렬이며, 단게의 수는 데이터의 전체 자리수와 일치\n",
    "- 기수 정렬의 분석\n",
    " - 기수 정렬의 시간 복잡도: O(dn)\n",
    " - 시간 복잡도가 d에 비례하기 땜누에 기수 정렬의 수행 시간은 정수의 크기와 관련이 있음\n",
    " - 보통 d는 n에 비해 아주 작은 수가 되므로 기수 정렬은 O(n)이라고 해도 무리가 없음\n",
    "- 다른 정렬 방법에 비해 빠른 수행 시간에 정렬을 마칠 수 있음\n",
    " - 단, 정렬에 사용되는 킷값이 자연수로 표현되어야만 적용이 가능"
   ]
  },
  {
   "cell_type": "code",
   "execution_count": 17,
   "id": "08f0f849",
   "metadata": {},
   "outputs": [],
   "source": [
    "from queue import Queue                 \n",
    "def radix_sort(A) :\n",
    "    queues = []    \n",
    "    for i in range(BUCKETS) :\n",
    "        queues.append(Queue())\n",
    "\n",
    "    n = len(A)\n",
    "    factor = 1\n",
    "    for d in range(DIGITS) :\n",
    "        for i in range(n) :\n",
    "            queues[(A[i]//factor) % 10].put(A[i])\n",
    "        i = 0\n",
    "        for b in range(BUCKETS) :\n",
    "            while not queues[b].empty():\n",
    "                A[i] = queues[b].get()\n",
    "                i += 1\n",
    "        factor *= 10\n",
    "        print(\"step\", d+1, A)"
   ]
  },
  {
   "cell_type": "code",
   "execution_count": 18,
   "id": "1183717c",
   "metadata": {},
   "outputs": [
    {
     "name": "stdout",
     "output_type": "stream",
     "text": [
      "step 1 [5400, 8200, 6661, 7153, 7454, 254, 8085, 2129, 5169, 89]\n",
      "step 2 [5400, 8200, 2129, 7153, 7454, 254, 6661, 5169, 8085, 89]\n",
      "step 3 [8085, 89, 2129, 7153, 5169, 8200, 254, 5400, 7454, 6661]\n",
      "step 4 [89, 254, 2129, 5169, 5400, 6661, 7153, 7454, 8085, 8200]\n",
      "Radix:  [89, 254, 2129, 5169, 5400, 6661, 7153, 7454, 8085, 8200]\n"
     ]
    }
   ],
   "source": [
    "import random\n",
    "BUCKETS = 10\n",
    "DIGITS  = 4\n",
    "data = []\n",
    "for i in range(10) :\n",
    "    data.append(random.randint(1,9999))\n",
    "radix_sort(data)\n",
    "print(\"Radix: \", data)"
   ]
  },
  {
   "cell_type": "markdown",
   "id": "d2e5549f",
   "metadata": {},
   "source": [
    "### 카운팅 정렬\n",
    "- 정렬을 위한 키 값들이 일정한 범위를 가진 정수라면 카운팅 정렬을 사용해 정렬할 수 있음\n",
    "- 기본적으로 킷값을 가진 항목의 수를 세는 방법을 사용\n",
    "- 기수 정렬과 마찬가지로 킷값의 비교를 사용하지 않는 정렬방식\n",
    "- 카운팅 정렬의 분석\n",
    " - 카운팅 정렬은 입력 데이터가 크지 않은 일정한 범위의 값을 가진 양수라면 매우 효율적\n",
    " - 아스키 문자들은 모두 0~255이내의 값을 갖기 때문에 아스키 문자열의 모든 문자들을 정렬하는데 사용할 수 있음\n",
    " - 입력 리스트가 n개의 정수를 가지고 있고, 숫자의 범위가 k(0~k-1)라면 전체 알고리즘은 O(k+n)의 시간 복잡도를 가짐\n",
    " - 문자의 정렬에서와 같이 k가 작은 수로 제한된다면 시간 복잡도는 O(n)이라고 해도 무리 없음\n",
    " - 카운팅 정렬 알고리즘은 입력 배열에 추가적으로 O(k+n)의 메모리 공간을 필요로 함\n",
    " - 킷값이 음수인 경우에도 처리 가능"
   ]
  },
  {
   "cell_type": "code",
   "execution_count": 19,
   "id": "202a8181",
   "metadata": {},
   "outputs": [],
   "source": [
    "MAX_VAL = 1000\n",
    "def counting_sort(A): \n",
    "    output = [0] * MAX_VAL      \n",
    "    count  = [0] * MAX_VAL      \n",
    "\n",
    "    for i in A:                 \n",
    "        count[i] += 1\n",
    "  \n",
    "    for i in range(MAX_VAL):    \n",
    "        count[i] += count[i-1]  \n",
    "  \n",
    "    for i in range(len(A)):     \n",
    "        output[count[A[i]]-1] = A[i] \n",
    "        count[A[i]] -= 1\n",
    "\n",
    "    for i in range(len(A)):     \n",
    "        A[i] = output[i] "
   ]
  },
  {
   "cell_type": "code",
   "execution_count": 20,
   "id": "44bc6949",
   "metadata": {},
   "outputs": [
    {
     "name": "stdout",
     "output_type": "stream",
     "text": [
      "Data      :  [487, 917, 11, 200, 239, 118, 715, 137, 542, 957, 546, 369, 747, 557, 735, 658, 361, 975, 374, 455, 839, 991, 760, 284, 101, 456, 362, 259, 697, 180, 158, 497, 24, 143, 70, 40, 999, 946, 62, 220, 823, 537, 41, 131, 699, 531, 132, 732, 836, 85, 769, 662, 987, 340, 122, 734, 764, 300, 442, 925, 598, 774, 165, 193, 926, 464, 577, 860, 247, 51, 153, 217, 228, 110, 257, 407, 472, 796, 541, 809, 150, 867, 802, 939, 29, 386, 233, 278, 443, 665, 684, 423, 320, 218, 706, 906, 386, 470, 915, 331]\n",
      "counting_sort :  [0, 11, 24, 29, 40, 41, 51, 62, 70, 85, 101, 110, 118, 122, 131, 132, 137, 143, 150, 153, 158, 165, 180, 193, 200, 217, 218, 220, 228, 233, 239, 247, 257, 259, 278, 284, 300, 320, 331, 340, 361, 362, 369, 374, 386, 386, 407, 423, 442, 443, 455, 456, 464, 470, 472, 487, 497, 531, 537, 541, 542, 546, 557, 577, 598, 658, 662, 665, 684, 697, 699, 706, 715, 732, 734, 735, 747, 760, 764, 769, 774, 796, 802, 809, 823, 836, 839, 860, 867, 906, 915, 917, 925, 926, 939, 946, 957, 975, 987, 991]\n"
     ]
    }
   ],
   "source": [
    "MAX_VAL = 1000\n",
    "import random\n",
    "org = [random.randint(0, MAX_VAL-1) for _ in range(100)]\n",
    "data = list(org)\n",
    "print(\"Data      : \", data)\n",
    "counting_sort(data)\n",
    "print(\"counting_sort : \", data)"
   ]
  },
  {
   "cell_type": "markdown",
   "id": "ce8d549e",
   "metadata": {},
   "source": [
    "### 정렬 알고리즘의 성능 비교\n",
    "- 유사 난수와 같은 연구실 데이터가 아닌 현실 세계의 데이터에서도 좋은 성능을 보이기 위해 여러가지 최적화 기법들을 사용한 하이브리드 정렬 알고리즘들이 제안됨\n",
    " - EX: 팀 저렬\n",
    "- 하이브리드 정렬 알고리즘의 예: 팀 정렬\n",
    " - :삽입 정렬과 병합 정렬에 기반을 둔 하이브리드 알고리즘\n",
    " - O(n) ~ O(nlog2n)의 시간 복잡도를 보장\n",
    " - 파이썬의 기본 정렬 알고리즘(EX: sorted()함수, sort()메소드)에서 사용됨\n",
    " - 런이라는 개념을 사용하며, 런의 크기가 최소 크기보다 작으면 삽입정렬을, 그렇지 않으면 병합 정렬을 사용\n",
    " - 거의 정렬되어 있는 데이터에 대해서는 O(n), 최악의 경우에도 O(nlog2n)을 보장하여 퀵 정렬보다 우수하면서도 안정성을 충족하여 파이썬과 함께 자바의 시스템 정렬과 안드로이드 운영체제에서도 사용되고 있음\n",
    "\n",
    "- 정렬 알고리즘들의 성능 분석\n",
    " - 문제 해결을 위한 최적의 정렬 방법은 정렬해야할 레코드의 수, 크기, 자료형 등에 따라 달라짐"
   ]
  }
 ],
 "metadata": {
  "kernelspec": {
   "display_name": "Python 3 (ipykernel)",
   "language": "python",
   "name": "python3"
  },
  "language_info": {
   "codemirror_mode": {
    "name": "ipython",
    "version": 3
   },
   "file_extension": ".py",
   "mimetype": "text/x-python",
   "name": "python",
   "nbconvert_exporter": "python",
   "pygments_lexer": "ipython3",
   "version": "3.9.7"
  }
 },
 "nbformat": 4,
 "nbformat_minor": 5
}
