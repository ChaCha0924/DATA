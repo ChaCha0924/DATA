{
 "cells": [
  {
   "cell_type": "markdown",
   "id": "e4f0ccae",
   "metadata": {},
   "source": [
    "## 11. 가중치 그래프"
   ]
  },
  {
   "cell_type": "markdown",
   "id": "7e7203db",
   "metadata": {},
   "source": [
    "### 가중치 그래프란?\n",
    "- :간선에 비용이나 가중치가 할당된 그래프( G = (V, E, w))\n",
    " - 정점 사이의 연결 정보뿐만 아니라 필요한 비용을 함께 표현할 수 있음\n",
    "- 비용 또는 길이: 간선 e의 강도(w(e))\n",
    "- 경로의 길이(또는 강도): 경로상의 모든 간선의 길이 합"
   ]
  },
  {
   "cell_type": "markdown",
   "id": "fefb09d4",
   "metadata": {},
   "source": [
    "### 가중치 그래프의 표현\n",
    "- 가중치 그래프도 인접행렬과 인접리스트를 이용해 표현할 수 있음\n",
    " - 인접 행렬은 파이썬에서 리스트를 요소로 갖는 리스트로 표현하면 됨\n",
    " - 정점 리스트와 인접 행렬을 튜플로 묶어 전체 그래프를 하나의 객체로 관리할 수도 있음\n",
    "- 인접 행렬 표현에서 대각선 성분에 유의\n",
    " - 대각선 성분: 어떤 정점에서 자신을 돌아오는 자체 간선에 해당하는 요소\n",
    "- 인접 행렬에서의 가중치의 합 계산\n",
    "- 인접 행렬에서의 모든 간선 출력\n",
    "\n",
    "#### 인접 리스트를 이용한 표현\n",
    "- 각 정점의 인접 리스트에 정점만이 아니라 가중치를 추가로 저장해야 하기 때문에 가중치 그래프를 인접리스트로 표현하는 것은 약간 더 복잡함\n",
    "- 정점과 가중치는 (정점, 가중치)의 형태로 튜플로 표현하는 것이 좋음\n",
    " - 딕셔너리 엔트리의 키(key)는 정점 데이터, 값(value)은 간선의 집합이 된다\n",
    " - 간선의 집합은 (인접 정점, 가중치)의 튜플을 원소로 갖는다\n",
    "- 인접 리스트에서의 가중치의 합 계산과 간선 출력"
   ]
  },
  {
   "cell_type": "code",
   "execution_count": 1,
   "id": "1e6ba2dd",
   "metadata": {},
   "outputs": [],
   "source": [
    "vertex =   ['A',    'B',    'C',    'D',    'E',    'F',    'G' ]\n",
    "weight = [ [None,\t29,\t\tNone,\tNone,\tNone,   10,\t\tNone],\n",
    "           [29,\tNone,\t16,\t\tNone,\tNone,\tNone,\t15  ],\n",
    "           [None,\t16,\t\tNone,\t12,\t\tNone,\tNone,\tNone],\n",
    "           [None,\tNone,   12,\t\tNone,\t22,\t\tNone,\t18  ],\n",
    "           [None,\tNone,\tNone,   22,\t\tNone,\t27,\t\t25  ],\n",
    "           [10,\tNone,\tNone,\tNone,   27,\t\tNone,\tNone],\n",
    "           [None,  15,\t\tNone,   18,\t\t25,\t\tNone,\tNone]]    \n",
    "graph = (vertex, weight)"
   ]
  },
  {
   "cell_type": "code",
   "execution_count": 2,
   "id": "736a7b48",
   "metadata": {},
   "outputs": [
    {
     "name": "stdout",
     "output_type": "stream",
     "text": [
      "AM : weight sum =  174\n"
     ]
    }
   ],
   "source": [
    "def weightSum( vlist, W ):\n",
    "    sum = 0\n",
    "    for i in range(len(vlist)) :\n",
    "        for j in range(i+1, len(vlist)):\n",
    "            if W[i][j] != None :\n",
    "                sum += W[i][j]\n",
    "    return sum\n",
    "\n",
    "print('AM : weight sum = ', weightSum(vertex, weight))"
   ]
  },
  {
   "cell_type": "code",
   "execution_count": 3,
   "id": "8771801e",
   "metadata": {},
   "outputs": [
    {
     "name": "stdout",
     "output_type": "stream",
     "text": [
      "(A,B,29) (A,F,10) (B,C,16) (B,G,15) (C,D,12) (D,E,22) (D,G,18) (E,F,27) (E,G,25) \n"
     ]
    }
   ],
   "source": [
    "def printAllEdges(vlist, W ):        \n",
    "    for i in range(len(vlist)) :\n",
    "        for j in range(i+1, len(W[i])) :  \n",
    "            if W[i][j] != None and W[i][j] != 0 :\n",
    "                print(\"(%s,%s,%d)\"%(vlist[i],vlist[j],W[i][j]), end=' ')\n",
    "    print()\n",
    "\n",
    "printAllEdges(vertex, weight)"
   ]
  },
  {
   "cell_type": "code",
   "execution_count": 5,
   "id": "66216158",
   "metadata": {},
   "outputs": [],
   "source": [
    "# 딕셔너리와 집합, 튜플, 리스트를 모두 이용한 그래프 표현\n",
    "graphAL ={'A' : set([('B',29),('F',10)          ]),\n",
    "        'B' : set([('A',29),('C',16), ('G',15)]),\n",
    "        'C' : set([('B',16),('D',12)          ]),\n",
    "        'D' : set([('C',12),('E',22), ('G',18)]),\n",
    "        'E' : set([('D',22),('F',27), ('G',25)]),\n",
    "        'F' : set([('A',10),('E',27)          ]),\n",
    "        'G' : set([('B',15),('D',18), ('E',25)]) }"
   ]
  },
  {
   "cell_type": "code",
   "execution_count": 6,
   "id": "a420b6d8",
   "metadata": {},
   "outputs": [],
   "source": [
    "# 가중치의 총 합을 구하는 함수\n",
    "def weightSum(graph):\n",
    "    sum = 0\n",
    "    for v in graph:             \n",
    "        for e in graph[v]:      \n",
    "            sum += e[1]\n",
    "    return sum//2"
   ]
  },
  {
   "cell_type": "code",
   "execution_count": 7,
   "id": "9e3fdccc",
   "metadata": {},
   "outputs": [
    {
     "name": "stdout",
     "output_type": "stream",
     "text": [
      "AL : weight sum =  174\n",
      "(A,B,29) (A,F,10) (B,C,16) (B,A,29) (B,G,15) (C,B,16) (C,D,12) (D,G,18) (D,E,22) (D,C,12) (E,G,25) (E,D,22) (E,F,27) (F,A,10) (F,E,27) (G,E,25) (G,D,18) (G,B,15) "
     ]
    }
   ],
   "source": [
    "# 모든 간선을 출력하는 함수\n",
    "def printAllEdges(graph):\n",
    "    for v in graph:             \n",
    "        for e in graph[v]:      \n",
    "            print(\"(%s,%s,%d)\"%(v,e[0],e[1]), end=' ')\n",
    "\n",
    "print('AL : weight sum = ', weightSum(graphAL))\n",
    "printAllEdges(graphAL)"
   ]
  },
  {
   "cell_type": "markdown",
   "id": "423f9734",
   "metadata": {},
   "source": [
    "### 최소 비용 신장 트리\n",
    "- 통신망, 도로망, 유통망 등은 대개 길이, 구축비용, 전송 시간 등의 가중치를 산선에 할당한 가중치 그래프로 표현 가능\n",
    "- 최소비용 신장 트리 MST: 그래프의 여러 가능한 신장 트리들 중에서 사용된 간선들의 가중치 합이 최소인 신장 트리\n",
    " - 그래프의 모든 정점들은 연결되어야 한다\n",
    " - 연결에 필요한 간선의 가중치 합(비용)이 최소가 되어야 한다\n",
    " - 사이클은 두 정점을 연결하는 두 가지 경로를 제공하므로 비용 측면에서 바람직하지 않다. 따라서 사이클 없이 (n - 1)개의 간선만을 사용해야 한다\n",
    "- 최소비용 신장트리를 구하는 방법에는 Kruskal과 Prim의 알고리즘이 존재\n",
    "\n",
    "#### Kruskal의 MST 알고리즘\n",
    "- Kruskal의 알고리즘은 탐욕적인 방법이라는 알고리즘 설계에서 중요한 기법 중의 하나를 사용\n",
    " - 어떤 결정을 해야할 때마다 \"그 순간에 최적\"이라고 생각되는 것을 선택하는 방법\n",
    " - 순간에 최적이라고 판단했던 선택을 모아 최종적인 답을 만들었을 때 이것이 \"궁극적으로 최적\"이라는 보장이 없기 때문에 탐욕적인 방법은 항상 최적의 해답을 주는지를 반드시 검증해야 함\n",
    "- Kruskal 알고리즘은 각 단계에서 사이클을 이루지 않는 최소 비용 간선을 선택하며 이러한 과정을 반복하여 그래프의 모든 정점을 최소비용으로 연결하는 최적 해답을 구함\n",
    "- Union-Find\n",
    " - 서로소인 집합들을 표현할 때 사용하는 독특한 형태의 집합 자료구조\n",
    " - 추가하고자 하는 간선 (u,v)의 양끝 정점 u와 v가 같은 집합에 속해있는지를 검사하는데 사용\n",
    "- union과 find 연산\n",
    " - union(x, y): 원소 x와 y가 속해있는 집합을 입력으로 받아 이들의 합집합을 만드는 연산\n",
    " - find(x): 여러 집합들 중에서 원소 x가 속해있는 집합을 반환하는 연산\n",
    "- 집합을 구현하는 데는 비트 벡터, 배열, 연결 리스트 등 여러 가지 방법을 사용할 수 있지만, 가장 효율적인 방법은 트리\n",
    "- Kruskal 알고리즘의 구현\n",
    " - kruskal 알고리즘의 시간 복잡도는 간선들을 정렬하는 시간에 좌우됨\n",
    " - 퀵 정렬이나 최소 힙과 같은 효율적인 정렬 알고리즘을 사용하다면 Kruskal의 알고리즘의 시간 복잡도는 (elog2e)(e: 간선의 개수)\n",
    "\n",
    "#### Prim의 MST 알고리즘\n",
    "- :하나의 정점에서부터 시작하여 트리를 단계적으로 확장해나가는 방법\n",
    " - 처음에는 시작 정점만이 트리에 포함되고, 다음으로 현재까지 만들어진 트리에 인접한 정점들 중에서 간선의 가중치가 가장 작은 정점을 선택하여 트리를 확장하며, 이 과정이 트리가 n - 1개의 간선을 가질 때까지 계속됨\n",
    "- Kruskal의 알고리즘은 간선을 기반으로 하는데 비해 Prim의 알고리즘은 정점을 기반으로 함\n",
    "- Prim 알고리즘의 구현\n",
    " - Prim의 알고리즘은 간단하지만 구현을 위해서는 현재의 MST에 인접한 정점들 중에서 가장 가까운(간선의 가중치가 작은) 정점을 찾는 과정을 처리해야 함(dist라는 배열 사용)\n",
    " - Prim의 알고리즘은 주 반복문이 정점의 수 n만큼 반복하고, 내부 반복문이 n번 반복하므로 O(n^2)의 시간 복잡도를 가짐\n",
    " - Kruskal의 알고림즘은 복잡도가 (elog2e)이므로 정점의 개수에 비해 간선의 개수가 매우 적은 희박한 그래프를 대상으로 할 경우에는 Kruskal 알고라즘이 적합하고, 반대로 완전 그래프와 같이 간선이 매우 많은 그래프의 경우에는 Prim의 알고리즘이 유리"
   ]
  },
  {
   "cell_type": "code",
   "execution_count": 9,
   "id": "c71e9183",
   "metadata": {},
   "outputs": [],
   "source": [
    "parent = []     \n",
    "set_size = 0    \n",
    "\n",
    "#집합의 초기화 함수\n",
    "def init_set(nSets) : \n",
    "    global set_size, parent \n",
    "    set_size = nSets;\n",
    "    for i in range(nSets):\n",
    "        parent.append(-1)\n",
    "\n",
    "# 정점 id가 속한 집합의 대표번호 탐색\n",
    "def find(id) :\n",
    "    while (parent[id] >= 0) :\n",
    "        id = parent[id]\n",
    "    return id;\n",
    "\n",
    "# 두 집합을 병합(s1을 s2에 병합시킴)\n",
    "def union(s1, s2) :\n",
    "    global set_size\n",
    "    parent[s1] = s2\n",
    "    set_size = set_size - 1"
   ]
  },
  {
   "cell_type": "code",
   "execution_count": 10,
   "id": "59c8b957",
   "metadata": {},
   "outputs": [],
   "source": [
    "# kruskal의 최소 비용 신장 트리 프로그램\n",
    "def MSTKruskal(vertex, adj):\n",
    "    vsize = len(vertex)             \n",
    "    init_set(vsize)                 \n",
    "    eList = []                      \n",
    "\n",
    "    for i in range(vsize-1) :       \n",
    "        for j in range(i+1, vsize) :\n",
    "            if adj[i][j] != None :\n",
    "                eList.append( (i,j,adj[i][j]) )\n",
    "    \n",
    "    # 간선 리스트를 가중치의 내림차순으로 정렬: 람다 함수 사용\n",
    "    eList.sort(key= lambda e : e[2], reverse=True)\n",
    "\n",
    "    edgeAccepted = 0\n",
    "    while (edgeAccepted < vsize - 1) :\n",
    "        e = eList.pop(-1)       \n",
    "        uset = find(e[0])      \n",
    "        vset = find(e[1])\n",
    "\n",
    "        if uset != vset :       \n",
    "            print(\"간선 추가 : (%s, %s, %d)\" %\n",
    "                (vertex[e[0]], vertex[e[1]], e[2]))\n",
    "            union(uset, vset)   \n",
    "            edgeAccepted += 1   "
   ]
  },
  {
   "cell_type": "code",
   "execution_count": 11,
   "id": "6a6bcefd",
   "metadata": {},
   "outputs": [
    {
     "name": "stdout",
     "output_type": "stream",
     "text": [
      "MST By Kruskal's Algorithm\n",
      "간선 추가 : (A, F, 10)\n",
      "간선 추가 : (C, D, 12)\n",
      "간선 추가 : (B, G, 15)\n",
      "간선 추가 : (B, C, 16)\n",
      "간선 추가 : (D, E, 22)\n",
      "간선 추가 : (E, F, 27)\n"
     ]
    }
   ],
   "source": [
    "vertex =   ['A',    'B',    'C',    'D',    'E',    'F',    'G' ]\n",
    "weight = [ [None,\t29,\t\tNone,\tNone,\tNone,   10,\t\tNone],\n",
    "           [29,\tNone,\t16,\t\tNone,\tNone,\tNone,\t15  ],\n",
    "           [None,\t16,\t\tNone,\t12,\t\tNone,\tNone,\tNone],\n",
    "           [None,\tNone,   12,\t\tNone,\t22,\t\tNone,\t18  ],\n",
    "           [None,\tNone,\tNone,   22,\t\tNone,\t27,\t\t25  ],\n",
    "           [10,\tNone,\tNone,\tNone,   27,\t\tNone,\tNone],\n",
    "           [None,  15,\t\tNone,   18,\t\t25,\t\tNone,\tNone]]    \n",
    "\n",
    "print(\"MST By Kruskal's Algorithm\")\n",
    "MSTKruskal(vertex, weight)"
   ]
  },
  {
   "cell_type": "code",
   "execution_count": 12,
   "id": "2fce67a7",
   "metadata": {},
   "outputs": [],
   "source": [
    "INF = 9999\n",
    "\n",
    "# 현재 트리에 인접한 정점들 중에서 가장 가까운 정점을 찾는 함수\n",
    "def getMinVertex(dist, selected) :\n",
    "    minv = 0\n",
    "    mindist = INF\n",
    "    for v in range(len(dist)) :\n",
    "        if not selected[v] and dist[v]<mindist :\n",
    "            mindist = dist[v]\n",
    "            minv = v\n",
    "    return minv"
   ]
  },
  {
   "cell_type": "code",
   "execution_count": 13,
   "id": "5317825f",
   "metadata": {},
   "outputs": [
    {
     "name": "stdout",
     "output_type": "stream",
     "text": [
      "MST By Prim's Algorithm\n",
      "A F E D C B G \n"
     ]
    }
   ],
   "source": [
    "# Prim의 최소 비용 신장 트리 프로그램\n",
    "def MSTPrim(vertex, adj) :\n",
    "    vsize = len(vertex)\n",
    "    dist = [INF] * vsize\n",
    "    selected = [False] * vsize\n",
    "    dist[0] = 0    \n",
    "\n",
    "    for i in range(vsize) :\n",
    "        u = getMinVertex(dist, selected)\n",
    "        selected[u] = True\n",
    "        print(vertex[u], end=' ')\n",
    "\n",
    "        for v in range(vsize) :\n",
    "            if (adj[u][v] != None):\n",
    "                if selected[v]==False and adj[u][v]< dist[v] :\n",
    "                    dist[v] = adj[u][v]\n",
    "    print()\n",
    "\n",
    "print(\"MST By Prim's Algorithm\")\n",
    "MSTPrim(vertex, weight)"
   ]
  },
  {
   "cell_type": "markdown",
   "id": "ce5af2c9",
   "metadata": {},
   "source": [
    "### 최단 경로\n",
    "- :가중치 그래프에서 두 정점을 연결하는 여러 경로들 중에서 간선들의 가중치 합이 최소가 되는 경로\n",
    "- 최단 경로 문제는 어떤 정점 u에서 다른 정점 v로 가는 여러 경로들 중에서 전체 이동거리가 최소가 되는 경로를 찾는 것\n",
    "- 가중치 그래프에서 정점들 사이의 최단 경로를 구하는 방법에는 Dijkstra와 Floyd의 알고리즘이 존재\n",
    " - Dijkstra 알고리즘은 하나의 시작 정점에서 다른 모든 정점까지의 최단 경로를 구함\n",
    " - Floyd 알고리즘은 모든 정점에서 다른 모든 정점까지의 최단 경로를 한꺼번에 구할 수 있음\n",
    "- 간선의 가중치는 반드시 양수이며 음수는 허용하지 않는 것에 주의\n",
    "\n",
    "#### Dijkstra의 최단 경로 알고리즘\n",
    "- :하나의 시작 정점 v에서 다른 모든 정점까지의 최단 경로를 찾는 알고리즘\n",
    " - 시작 정점 v: 최단경로탐색의 시작 정점\n",
    " - 집합 S: 시작 정점 v로부터의 최단경로가 이미 발견된 정점들의 집합\n",
    " - dist 배열: S에 있는 정점만을 거쳐서 다른 정점으로 가는 최단거리를 기록하는 배열(Prim의 MST알고리즘에서와 유사. dist[v] = 0(시작 정점))\n",
    "- 알고리즘 증명\n",
    "- 알고리즘 진행 예\n",
    "- Dijkstra 알고리즘의 구현\n",
    " - 알고리즘을 구현하기 위해서는 세 가지 배열(리스트)이 필요(dist[], found[], path[])4\n",
    " - Dijkstra 알고리즘은 시작정점에서부터 다른 모든 정점까지의 최단 경로의 거리 정보를 제공\n",
    " - 그래프에 n개의 정점이 있다면, 최단 경로 알고리즘은 주 반복문을 n번 반복하고 내부 반복문을 2n번 반복하므로 O(n^2)의 시간 복잡도를 가짐\n",
    " \n",
    "#### Floyd의 최단 경로 알고리즘\n",
    "- 그래프의 모든 정ㅈ머들 사이의 최단 경로를 구하려고 한다면 Dijkstra 알고리즘을 정점의 수만큼 반복하여 실행하면 되지만 더 간단한 방법도 존재\n",
    "- Floyd 알고리즘은 행렬 A를 이용하여 3중 반복을 하는 루프로 구성됨\n",
    "- Floyd 알고리즘의 구현\n",
    " - Dijkstra의 알고리즘의 경우 하나의 정점에서 출발하여 모든 정점까지의 최단 경로를 찾는데 O(n^2)의 시간이 걸리기 때문에, 모든 정점에서 출발한다면 알고리즘을 n번 반복해야 하므로 전체 시간복잡도는 O(n^3)\n",
    " - Floyd의 알고리즘은 한 번에 모든 정점의 최단 경로를 구하고, 3중 반복문을 사용하여 시간 복잡도는 O(n^3)가 됨\n",
    " - Dijkstra 알고리즘과의 차이는 없지만 Floyd의 알고리즘은 매우 간결한 반복 구문을 사용한다는 특징이 존재"
   ]
  },
  {
   "cell_type": "code",
   "execution_count": 5,
   "id": "f4a0f523",
   "metadata": {},
   "outputs": [],
   "source": [
    "INF = 9999\n",
    "\n",
    "# 최소 dist 정점을 찾는 함수\n",
    "def choose_vertex(dist, found) :\n",
    "    min = INF\n",
    "    minpos = -1\n",
    "    for i in range(len(dist)) :\n",
    "        if dist[i]<min and found[i]==False:\n",
    "            min = dist[i]\n",
    "            minpos = i\n",
    "    return minpos;"
   ]
  },
  {
   "cell_type": "code",
   "execution_count": 6,
   "id": "97800287",
   "metadata": {},
   "outputs": [],
   "source": [
    "def shortest_path_dijkstra(vtx, adj, start) :\n",
    "    vsize = len(vtx)\n",
    "    dist = list(adj[start])\n",
    "    path = [start] * vsize\n",
    "    found= [False] * vsize\n",
    "    found[start] = True\n",
    "    dist[start] = 0\n",
    "\n",
    "    for i in range(vsize) :\n",
    "        print(\"Step%2d: \"%(i+1), dist)  \n",
    "        u = choose_vertex(dist, found)\n",
    "        found[u] = True\n",
    "\n",
    "        for w in range(vsize) :\n",
    "            if not found[w] :\n",
    "                if dist[u] + adj[u][w] < dist[w] :\n",
    "                    dist[w] = dist[u] + adj[u][w]\n",
    "                    path[w] = u\n",
    "\n",
    "    return path            "
   ]
  },
  {
   "cell_type": "code",
   "execution_count": 10,
   "id": "b12861cb",
   "metadata": {},
   "outputs": [
    {
     "name": "stdout",
     "output_type": "stream",
     "text": [
      "Shortest Path By Dijkstra Algorithm\n",
      "Step 1:  [14, 7, 9, 9999, 9999, 0]\n",
      "Step 2:  [14, 7, 9, 22, 9999, 0]\n",
      "Step 3:  [14, 7, 9, 20, 9999, 0]\n",
      "Step 4:  [14, 7, 9, 20, 23, 0]\n",
      "Step 5:  [14, 7, 9, 20, 23, 0]\n",
      "Step 6:  [14, 7, 9, 20, 23, 0]\n",
      "[최단경로: S->A] A <- S\n",
      "[최단경로: S->B] B <- S\n",
      "[최단경로: S->C] C <- S\n",
      "[최단경로: S->D] D <- C <- S\n",
      "[최단경로: S->E] E <- A <- S\n"
     ]
    }
   ],
   "source": [
    "vertex =   ['A',    'B',    'C',    'D',    'E',    'S']\n",
    "weight = [ [INF, INF, INF, INF, 9, 14 ],\n",
    "           [INF, INF, 10, 15, INF, 7 ],\n",
    "           [INF, 10, INF, 11, INF, 9],\n",
    "           [INF, 15, 11, INF, 6, INF ],\n",
    "           [9, INF, INF, 6, INF,INF ],\n",
    "           [14, 7, 9, INF, INF, INF] ]    \n",
    "\n",
    "print(\"Shortest Path By Dijkstra Algorithm\")\n",
    "start = 5\n",
    "path = shortest_path_dijkstra(vertex, weight, start)\n",
    "\n",
    "# 최종 경로를 출력하기 위한 코드\n",
    "for end in range(len(vertex)) :\n",
    "    if end != start :\n",
    "        print(\"[최단경로: %s->%s] %s\" %\n",
    "                (vertex[start], vertex[end], vertex[end]), end='')\n",
    "        while (path[end] != start) :\n",
    "            print(\" <- %s\" % vertex[path[end]], end='')\n",
    "            end = path[end]\n",
    "        print(\" <- %s\" % vertex[path[end]])"
   ]
  },
  {
   "cell_type": "code",
   "execution_count": 17,
   "id": "615d2563",
   "metadata": {},
   "outputs": [
    {
     "name": "stdout",
     "output_type": "stream",
     "text": [
      "Shortest Path By Floyd Algorithm\n",
      "====================================\n",
      "   0    7  INF  INF    3   10  INF \n",
      "   7    0    4   10    2    6  INF \n",
      " INF    4    0    2  INF  INF  INF \n",
      " INF   10    2    0   11    9    4 \n",
      "   3    2  INF   11    0   13    5 \n",
      "  10    6  INF    9   13    0  INF \n",
      " INF  INF  INF    4    5  INF    0 \n",
      "====================================\n",
      "   0    7   11   17    3   10  INF \n",
      "   7    0    4   10    2    6  INF \n",
      "  11    4    0    2    6   10  INF \n",
      "  17   10    2    0   11    9    4 \n",
      "   3    2    6   11    0    8    5 \n",
      "  10    6   10    9    8    0  INF \n",
      " INF  INF  INF    4    5  INF    0 \n",
      "====================================\n",
      "   0    7   11   13    3   10  INF \n",
      "   7    0    4    6    2    6  INF \n",
      "  11    4    0    2    6   10  INF \n",
      "  13    6    2    0    8    9    4 \n",
      "   3    2    6    8    0    8    5 \n",
      "  10    6   10    9    8    0  INF \n",
      " INF  INF  INF    4    5  INF    0 \n",
      "====================================\n",
      "   0    7   11   13    3   10   17 \n",
      "   7    0    4    6    2    6   10 \n",
      "  11    4    0    2    6   10    6 \n",
      "  13    6    2    0    8    9    4 \n",
      "   3    2    6    8    0    8    5 \n",
      "  10    6   10    9    8    0   13 \n",
      "  17   10    6    4    5   13    0 \n",
      "====================================\n",
      "   0    5    9   11    3   10    8 \n",
      "   5    0    4    6    2    6    7 \n",
      "   9    4    0    2    6   10    6 \n",
      "  11    6    2    0    8    9    4 \n",
      "   3    2    6    8    0    8    5 \n",
      "  10    6   10    9    8    0   13 \n",
      "   8    7    6    4    5   13    0 \n",
      "====================================\n",
      "   0    5    9   11    3   10    8 \n",
      "   5    0    4    6    2    6    7 \n",
      "   9    4    0    2    6   10    6 \n",
      "  11    6    2    0    8    9    4 \n",
      "   3    2    6    8    0    8    5 \n",
      "  10    6   10    9    8    0   13 \n",
      "   8    7    6    4    5   13    0 \n",
      "====================================\n",
      "   0    5    9   11    3   10    8 \n",
      "   5    0    4    6    2    6    7 \n",
      "   9    4    0    2    6   10    6 \n",
      "  11    6    2    0    8    9    4 \n",
      "   3    2    6    8    0    8    5 \n",
      "  10    6   10    9    8    0   13 \n",
      "   8    7    6    4    5   13    0 \n"
     ]
    }
   ],
   "source": [
    "INF = 9999\n",
    "\n",
    "# 현재의 A 행렬을 화면에 출력하는 함수\n",
    "def printA(A):\n",
    "    vsize = len(A)\n",
    "    print(\"====================================\")\n",
    "    for i in range(vsize) :\n",
    "        for j in range(vsize) :\n",
    "            if (A[i][j] == INF) : print(\" INF \", end='')\n",
    "            else : print(\"%4d \"%A[i][j], end='')\n",
    "        print(\"\");\n",
    "\n",
    "# Floyd의 최단경로탐색 함수\n",
    "def shortest_path_floyd(vertex, adj) :\n",
    "    vsize = len(vertex)       \n",
    "    A = list(adj)\n",
    "    for i in range(vsize) :   \n",
    "        A[i] = list(adj[i])\n",
    "\n",
    "    for k in range(vsize) :\n",
    "        for i in range(vsize) :\n",
    "            for j in range(vsize) :\n",
    "                if (A[i][k] + A[k][j] < A[i][j]) :\n",
    "                    A[i][j] = A[i][k] + A[k][j]\n",
    "        printA(A)\n",
    "\n",
    "print(\"Shortest Path By Floyd Algorithm\")\n",
    "start = 0\n",
    "path = shortest_path_floyd(vertex, weight)"
   ]
  }
 ],
 "metadata": {
  "kernelspec": {
   "display_name": "Python 3 (ipykernel)",
   "language": "python",
   "name": "python3"
  },
  "language_info": {
   "codemirror_mode": {
    "name": "ipython",
    "version": 3
   },
   "file_extension": ".py",
   "mimetype": "text/x-python",
   "name": "python",
   "nbconvert_exporter": "python",
   "pygments_lexer": "ipython3",
   "version": "3.9.7"
  }
 },
 "nbformat": 4,
 "nbformat_minor": 5
}
