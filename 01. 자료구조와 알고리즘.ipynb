{
 "cells": [
  {
   "cell_type": "markdown",
   "id": "64f5fca4",
   "metadata": {},
   "source": [
    "# 파이썬으로 쉽게 풀어쓴 자료구조"
   ]
  },
  {
   "cell_type": "markdown",
   "id": "b2a23c0a",
   "metadata": {},
   "source": [
    "## 01. 자료구조와 알고리즘"
   ]
  },
  {
   "cell_type": "markdown",
   "id": "0db35909",
   "metadata": {},
   "source": [
    "### 자료구조와 알고리즘\n",
    "#### 자료구조란?\n",
    "- :사람들이 사물을 편리하고 효율적으로 사용하기 위해 정리하는 것과 마찬가지로 컴퓨터에서 자료들을 정리하고 조직화하는 여러 가지 구조들 \n",
    "- 자료구조 = 단순 자료구조(숫자, 문자) + 복합 자료구조(EX: 컨테이너: 여러 자료들을 한꺼번에 보관)\n",
    "- 복합 자료구조는 형태에 따라 선형 자료구조와 비선형 자료구조로 나뉨\n",
    "- 선형 자료구조  \n",
    " - 항목들을 순서적으로 나열하여 저장하는 창고\n",
    " - EX: 스택, 큐, 덱, 리스트(가장 자유로운 선형 자료구조)\n",
    "- 비선형 자료구조 \n",
    " - 저장되는 항목들이 복잡한 연결 관계를 가짐\n",
    " - EX: 트리(일반트리, 힙트리, 이진 탐색트리, AVL트리), 그래프(가중치 그래프)\n",
    " - 자료구조는 배열구조와 연결된 구조로 표현 가능\n",
    "- 컴퓨터의 가장 대표적인 응용: 정렬과 탐색\n",
    " - 정렬: 주어진 자료들을 어떤 기준에 따라 순서대로 나열하는 것\n",
    "\n",
    "#### 알고리즘이란?\n",
    "- :주어진 문제를 처리하기 위한 효과적인 절차\n",
    "- 프로그램은 자료구조와 알고리즘으로 구성됨\n",
    "\n",
    "#### 알고리즘의 조건\n",
    "- 알고리즘: 주어진 문제를 논리적으로 해결하기 위해 필요한 절차나 방법, 명령어들을 모아놓은 것\n",
    "- :특정한 일을 수행하는 명령어들의 집합\n",
    "- 알고리즘은 프로그래밍 언어와 관련이 없음\n",
    "- 알고리즘의 조건\n",
    " - 입력: 0개 이상의 입력\n",
    " - 출력: 1개 이상의 출력\n",
    " - 명백성: 명령어의 의미가 모호하지 않고 명확\n",
    " - 유한성: 반드시 종료\n",
    " - 유효성: 실행 가능한 연산\n",
    "- 알고리즘에는 입력은 없어도 되지만 출력은 반드시 하나 이상 있어야 함\n",
    "\n",
    "#### 알고리즘의 기술 방법\n",
    "- 알고리즘의 기술 방법\n",
    " - 자연어로 표현\n",
    " - 흐름도로 표현\n",
    " - 유사코드로 표현\n",
    " - 파이썬으로 표현"
   ]
  },
  {
   "cell_type": "markdown",
   "id": "89bdefe9",
   "metadata": {},
   "source": [
    "### 추상 자료형\n",
    "#### 추상 자료형(Abstract Data Type, ADT)란?\n",
    "- :프로그래머가 추상적으로 정의한 자료형\n",
    "- 추상 자료형은 어떤 자료들과 자료에 가해지는 연산들을 구체적으로 표시함\n",
    "- 어떤 자료나 연산이 제공되는가(어떻게 구현되는가는 정의하지 않음)\n",
    "- 사용자 프로그램에게 구현에 관한 세부사항을 감추고 간단한 인터페이스만을 제공\n",
    " - 정보은닉\n",
    "\n",
    "#### Bag 추상 자료형을 정의하고 구현해 보자\n",
    "- 추상자료형은 일반함수보다 클래수로 구현하는 것이 바람직\n",
    " - 추상 자료형의 데이터와 연산이 클래스의 상태와 행위에 대응되기 때문"
   ]
  },
  {
   "cell_type": "code",
   "execution_count": 1,
   "id": "63550332",
   "metadata": {},
   "outputs": [],
   "source": [
    "def contains(bag, e) :\n",
    "    return e in bag\n",
    "\n",
    "def insert(bag, e) :\n",
    "    bag.append(e)\n",
    "\n",
    "def remove(bag, e) :\n",
    "    bag.remove(e)\n",
    "\n",
    "def count(bag):\n",
    "    return len(bag)"
   ]
  },
  {
   "cell_type": "code",
   "execution_count": 2,
   "id": "73df4791",
   "metadata": {},
   "outputs": [
    {
     "name": "stdout",
     "output_type": "stream",
     "text": [
      "가방속의 물건: ['휴대폰', '지갑', '손수건', '빗', '자료구조', '야구공']\n",
      "가방속의 물건: ['휴대폰', '지갑', '빗', '자료구조', '야구공', '빗']\n"
     ]
    }
   ],
   "source": [
    "myBag = []\n",
    "insert(myBag, '휴대폰')\n",
    "insert(myBag, '지갑')\n",
    "insert(myBag, '손수건')\n",
    "insert(myBag, '빗') \n",
    "insert(myBag, '자료구조')\n",
    "insert(myBag, '야구공')\n",
    "print('가방속의 물건:', myBag)\n",
    "\n",
    "insert(myBag, '빗')\n",
    "remove(myBag, '손수건')\n",
    "print('가방속의 물건:', myBag)"
   ]
  },
  {
   "cell_type": "markdown",
   "id": "b1a5162e",
   "metadata": {},
   "source": [
    "### 알고리즘의 성능 분석\n",
    "#### 알고리즘의 실행시간을 측정해보자\n",
    "- 알고리즘의 효율성은 계산속도와 메모리 사용량을 평가 가능\n",
    "- 좋은 알고리즘이란? 실행시간이 짧으면서 메모리와 같은 컴퓨터의 자원들을 적게 사용하는 것\n",
    " - 일반적으로 실행시간을 효율적인 알고리즘의 기준으로 삼음\n",
    "- 알고리즘의 효율성은 자료구조에 따라 큰 형향을 받음\n",
    "\n",
    "#### 알고리즘의 복잡도 분석이란?\n",
    "- 여러 알고리즘이 있을 때 구현하지 않고 각 알고리즘의 효율성을 비교하는 것은 알고리즘의 복잡도 분석으로 가능\n",
    " - 실행 하드웨어나 소프트웨어 환경과 관계없이 평가 가능\n",
    " - 절대적인 실행시간이 아니라 알고리즘을 이루고 있는 연산들의 횟수를 분석\n",
    " - 시간복잡도 함수 T(n): 연산의 수를 n의 함수로 나타낸 것\n",
    "\n",
    "#### 빅오표기법\n",
    "- n이 커질수록 차수가 가장 큰 항의 영향이 절대적\n",
    "- : 시간 복잡도 함수에서 불필요한 정보를 제거하고 알고리즘 분석을 쉽게 할 목적으로 시간 복잡도를 표시하는 방법\n",
    "- n에 따른 함수의 상한을 나타냄\n",
    "- n이 증가함에 따른 시간 복잡도 함수의 증가\n",
    " - O(1)-O(logn)-O(n)-O(nlogn)-O(n^2)-O(n^3)-O(2^n)-O(n!)\n",
    " \n",
    "#### 빅오메가와 빅세타 표기법\n",
    "- 빅오 표기법은 최소 차수 함수로 표기되었을 경우에만 의미가 있음\n",
    "- 빅오메가: 어떤 함수의 하한을 표기하는 방법\n",
    "- 빅세타: 동일한 함수로 상한과 하한을 만들 수 있는 경우를 나타냄\n",
    "\n",
    "#### 입력 데이터에 따른 성능 차이\n",
    "- 같은 알고리즘도 입력의 종류에 따라 다른 실행 시간을 보일 수 있음\n",
    "- 대부분의 경우 최악의 경우의 실행시간이 가장 중요"
   ]
  },
  {
   "cell_type": "code",
   "execution_count": 7,
   "id": "0a185b19",
   "metadata": {},
   "outputs": [
    {
     "name": "stdout",
     "output_type": "stream",
     "text": [
      "실행시간 =  0.0\n"
     ]
    }
   ],
   "source": [
    "# 알고리즘의 실행시간 측정\n",
    "import time\n",
    "\n",
    "myBag = []\n",
    "start = time.time() # time.time()은 컴퓨터의 현재 시각을 반환하는 함수\n",
    "insert(myBag,'축구공')\n",
    "#...\n",
    "\n",
    "end = time.time()\n",
    "print(\"실행시간 = \", end-start)"
   ]
  },
  {
   "cell_type": "code",
   "execution_count": null,
   "id": "241aa8a0",
   "metadata": {},
   "outputs": [],
   "source": [
    "def insert(bag, e) :\n",
    "    bag.append(e)\n",
    "\n",
    "def insert(bag, e) :\n",
    "    bag.insert(0, e)"
   ]
  },
  {
   "cell_type": "markdown",
   "id": "9027e8cb",
   "metadata": {},
   "source": [
    "### 시간 복잡도 분석: 순환 알고리즘\n",
    "#### 순환 알고리즘이란?\n",
    "- 순환함수는 자신을 순환적으로 호출하는 부분과 순환 호출을 멈추는 부분으로 구성됨(EX: 팩토리얼)\n",
    "- 팩토리얼의 시간복잡도: O(n)\n",
    "- 순환은 반복 구조로 변환할 수 있음\n",
    "- 반복 알고리즘의 시간 복잡도는 순환의 시간 복잡도와 동일\n",
    " - 실행속도는 보통 반복보다 느린 경우가 많음\n",
    "- 순환 알고리즘은 이해하기 쉽다는 것과 쉽게 프로그램을 할 수 있다는 장점 \n",
    "- 수행시간과 기억 공간의 사용에 있어서는 비효율적인 경우가 많음\n",
    "\n",
    "#### 순환이 더 빠른 예도 있다: 거듭제곱 구하기\n",
    "- x^n을 반복구조로 표현하면 시간 복잡도는 O(n)이나 X^n = (x^2)n/2의 공식을 이용하면 더 효율적인 알고리즘이 가능\n",
    "- x^n을 구하는 함수\n",
    " - 반복 구조: 시간복잡도 O(n)\n",
    " - 순환 구조: 시간복잡도 O(log2n)\n",
    " - 두 알고리즘의 실행 결과는 동일하지만 순환이 더 빠름\n",
    "\n",
    "#### 순환이 훨씬 느린 경우가 많다: 피보나치 수열의 계산\n",
    "- 피보나치수열 문제에서는 순환이 매우 간단하고 이해하기 쉽게 구현할 수 있지만 매우 비효율적\n",
    " - 시간 복잡도: O(2^n)\n",
    "- 피보나치 수열을 반복구조를 이용해서 계산 가능\n",
    " - 시간 복잡도: O(n)\n",
    "\n",
    "#### 순환은 복잡한 문제를 쉽게 해결할 수 있다: 하노이의 탑\n",
    "- 순환 알고리즘에서는 순환이 일어날수록 문제의 크기가 작아져야 한다\n",
    "- 시간 복잡도: O(2^n)"
   ]
  },
  {
   "cell_type": "code",
   "execution_count": 8,
   "id": "e769b1c5",
   "metadata": {},
   "outputs": [],
   "source": [
    "# 팩토리얼\n",
    "def factorial(n) :  \n",
    "    if n == 1 : return 1   \n",
    "    else : return n * factorial(n - 1)"
   ]
  },
  {
   "cell_type": "code",
   "execution_count": 9,
   "id": "055a8c11",
   "metadata": {},
   "outputs": [],
   "source": [
    "# 반복 구조로 구현한 팩토리얼 함수\n",
    "def factorial(n) :\n",
    "    result = 1\n",
    "    for k in range(n, 0, -1) :\n",
    "        result = result * k\n",
    "    return result"
   ]
  },
  {
   "cell_type": "code",
   "execution_count": 10,
   "id": "ed152d9f",
   "metadata": {},
   "outputs": [],
   "source": [
    "# 반복으로 x^n을 구하는 함수\n",
    "def power_iter(x, n) : \n",
    "    result = 1.0\n",
    "    for i in range(n):\n",
    "        result = result * x\n",
    "    return result"
   ]
  },
  {
   "cell_type": "code",
   "execution_count": 11,
   "id": "4d815619",
   "metadata": {},
   "outputs": [],
   "source": [
    "# 순환으로 x^n을 구하는 함수\n",
    "def power(x, n) :\n",
    "    if n == 0 : return 1\n",
    "    elif (n % 2) == 0 :   \n",
    "        return power(x*x, n//2)\n",
    "    else :\n",
    "        return x * power(x*x, (n-1)//2)"
   ]
  },
  {
   "cell_type": "code",
   "execution_count": null,
   "id": "9078cbe8",
   "metadata": {},
   "outputs": [],
   "source": [
    "# 순환으로 구현한 피보나치 수열\n",
    "def fib(n) :  \n",
    "    if n == 0 : return 0\n",
    "    elif n == 1 : return 1\n",
    "    else : \n",
    "        return fib(n - 1) + fib(n - 2)"
   ]
  },
  {
   "cell_type": "code",
   "execution_count": 12,
   "id": "f7d222b6",
   "metadata": {},
   "outputs": [],
   "source": [
    "# 반복으로 구현한 피보나치 수열\n",
    "def fib_iter(n) :\n",
    "    if (n < 2): return n\n",
    "    \n",
    "    last = 0\n",
    "    current = 1\n",
    "    for i in range(2, n+1) :\n",
    "        tmp = current\n",
    "        current += last\n",
    "        last = tmp\n",
    "    return current"
   ]
  },
  {
   "cell_type": "code",
   "execution_count": 13,
   "id": "7d878958",
   "metadata": {},
   "outputs": [
    {
     "name": "stdout",
     "output_type": "stream",
     "text": [
      "원판 1: A --> B\n",
      "원판 2: A --> C\n",
      "원판 1: B --> C\n",
      "원판 3: A --> B\n",
      "원판 1: C --> A\n",
      "원판 2: C --> B\n",
      "원판 1: A --> B\n",
      "원판 4: A --> C\n",
      "원판 1: B --> C\n",
      "원판 2: B --> A\n",
      "원판 1: C --> A\n",
      "원판 3: B --> C\n",
      "원판 1: A --> B\n",
      "원판 2: A --> C\n",
      "원판 1: B --> C\n"
     ]
    }
   ],
   "source": [
    "# 하노이의 탑 순환 함수\n",
    "def hanoi_tower(n, fr, tmp, to) :      \n",
    "\n",
    "    if (n == 1) :               \n",
    "        print(\"원판 1: %s --> %s\" % (fr, to))\n",
    "    else :\n",
    "        hanoi_tower(n - 1, fr, to, tmp)   \n",
    "        print(\"원판 %d: %s --> %s\" % (n,fr,to))\n",
    "        hanoi_tower(n - 1, tmp, fr, to)    \n",
    "\n",
    "hanoi_tower(4, 'A', 'B', 'C') "
   ]
  }
 ],
 "metadata": {
  "kernelspec": {
   "display_name": "Python 3 (ipykernel)",
   "language": "python",
   "name": "python3"
  },
  "language_info": {
   "codemirror_mode": {
    "name": "ipython",
    "version": 3
   },
   "file_extension": ".py",
   "mimetype": "text/x-python",
   "name": "python",
   "nbconvert_exporter": "python",
   "pygments_lexer": "ipython3",
   "version": "3.9.7"
  }
 },
 "nbformat": 4,
 "nbformat_minor": 5
}
