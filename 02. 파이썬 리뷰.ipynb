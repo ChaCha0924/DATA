{
 "cells": [
  {
   "cell_type": "markdown",
   "id": "25c4e3c8",
   "metadata": {},
   "source": [
    "## 02. 파이썬 리뷰"
   ]
  },
  {
   "cell_type": "markdown",
   "id": "8bdae861",
   "metadata": {},
   "source": [
    "### 파이썬이란?\n",
    "- 파이썬은 다른 언어에 비해 읽고 이해하기 쉬움\n",
    "- 쉬운 문법을 사용하고 유용한 강력한 모듈을 제공하고 있어 인공지능과 빅데이터의 부상과 함께 최근 각광받고 있는 언어\n",
    "- 인터프리터 방식 사용\n",
    " - 일부의 코드만 작성하고 오류가 있더라도 오류가 발생하기 전까지는 실행 가능"
   ]
  },
  {
   "cell_type": "markdown",
   "id": "edaba974",
   "metadata": {},
   "source": [
    "### 자료형, 리터럴과 변수\n",
    "- 식별자와 예약어\n",
    " - 식별자: 어떤 대상을 유일하게 구별할 수 있는 이름\n",
    " - 예약어 또는 키워드: 프로그래밍 언어들마다 있는 특별한 의미가 주어진 이름\n",
    "- 리터럴과 자료형\n",
    " - 리터럴: 문자열 그 자체가 값을 나타내는 것\n",
    " - 리터럴들의 형태에 따라 자료형이 결정됨\n",
    "- 파이썬은 구조체나 클래스를 만들지 않고도 많은 것을 처리할 수 있음\n",
    "- 변수(variable)\n",
    " - :데이터를 담는 공간\n",
    " - 저장되는 데이터는 마음대로 바꿀 수 있음\n",
    "- 변수의 동작 정확히 이해하기\n",
    " - number = 132: 변수-대입연산자-리터럴\n",
    " - 파이썬에서는 모든 자료가 클래스로부터 만들어진 객체\n",
    " - 변수는 다른 객체를 참조하는 참조자 또는 포인터의 역할을 함\n",
    " - 변수는 아무런 객체도 참조하지 않을 수도 있음(None)"
   ]
  },
  {
   "cell_type": "markdown",
   "id": "29b6b44a",
   "metadata": {},
   "source": [
    "### 파이썬 연산\n",
    "- 산술 연산자\n",
    " - 연산자 /는 실수의 나눗셈(결과가 실수)를 의미\n",
    " - 연산자 //는 나머지를 제거한 정수 연산을 나타냄\n",
    "- 이항 연산자에서 2**5는 2^5\n",
    "- 단항 연산자 ++과 --는 제공하지 않음\n",
    "- 불리언 연산은 불리언 값에 적용되고, 그 결과도 불리언 값\n",
    "- is와 is not 연산자\n",
    " - 변수에 저장된 값(참조 객체의 주소)을 비교하기 위한 것(참조하는 객체의 내용을 비교하는 것이 아님)\n",
    " - ==는 참조 객체의 내용을 비교"
   ]
  },
  {
   "cell_type": "markdown",
   "id": "16eeaaff",
   "metadata": {},
   "source": [
    "### 함수 호출과 입출력 함수\n",
    "- 파이썬에서는 C언어와 같이 이미 만들어진 함수들을 호출할 수 있으며 함수의 호출은 이름과 함수를 전달하는 인수로 이루어짐\n",
    "- 키보드 입력함수: input()\n",
    " - 하나의 문자열을 전달하는데, 사용자에게 어떤 정보를 기다린다는 것을 표시해주기 위해 사용됨\n",
    " - input()함수로 반환되는 값은 항상 문자열\n",
    " - 정수나 실수값을 입력받고 싶다면 형 변환 함수(또는 각 클래스의 생성자)를 이용해 변환\n",
    "- 화면 출력함수: print()\n",
    " - 함수는 호출할 때마다 내용을 모두 출력한 다음 엔터를 입력해 다음 출력은 다음 줄에서 시작하도록 하는 라인피드가 발생"
   ]
  },
  {
   "cell_type": "markdown",
   "id": "f87c1e80",
   "metadata": {},
   "source": [
    "### 제어 구조와 반복\n",
    "- 분기\n",
    " - 파이썬에서 프로그램의 흐름을 제어하기 위해 분기와 반복을 제공\n",
    " - 콜른(:)은 새로운 블록이 시작됨을 나타냄\n",
    " - 들여쓰기로 블록을 지정하며 파이썬에서는 들여쓰기가 매우 중요\n",
    "- 반복(looping)\n",
    " - 반복을 위해 while과 for 문장을, 루프에서 빠져나오거나 계속 루프를 돌기 위해 break와 continue를 지원\n",
    " - 집합과 딕셔너리의 경우 선형 자료구조가 아니므로 출력 순서가 다르게 나타날 수 있음"
   ]
  },
  {
   "cell_type": "markdown",
   "id": "459cbcf0",
   "metadata": {},
   "source": [
    "### 컬렉션 자료형\n",
    "- 파이썬은 수치 자료형 이외에 여러 자료를 묶어 한꺼번에 저장하고 처리할 수 있도록 컬렉션 자료형을 지원함\n",
    "- 시퀀스형(str, list, tuple), 매핑형(dict), 집합형(setl frozenset)등으로 분류됨\n",
    "\n",
    "#### 문자열(str)\n",
    "- 프로그램에서 가장 많이 사용되는 자료형 중 하나\n",
    "- 문자열의 각 문자들은 인덱스 연산자를 이용해 접근 가능\n",
    "- 문자열 반복 연산자를 이용해 문자열 반복 가능\n",
    "- 문자열에 %를 함께 사용하여 포맷된 문자열을 만들 수 있음\n",
    "\n",
    "#### 리스트( list)\n",
    "- 가장 많이 사용되는 시퀀스형 자료구조\n",
    "- 여러 데이터를 하나로 묶어서 관리할 수 있음\n",
    " - 파이썬에서는 배열을 따로 제공하지 않기 때문에 리스트를 배열처럼 사용할 수 있음\n",
    "- 항목의 시작과 끝을 나타내기 위해 대괄호 []를 사용하고, 대괄호 안의 항목들을 분리하기 위해 쉼표(,)를 사용\n",
    "- 파이썬 리스트는 클래스로 구현되어 있기 때문에 다양한 연산(멤버 함수 또는 메소드)을 지원\n",
    " - s.append(item), s.extend(lst), s.count(item), s.index(item, [시작], [종료]), s.insert(pos, item), s.pop(pos), s.remove(item), s.reverse(), s.sort([key], [reverse])\n",
    "- 항목들이 동일한 자료형이 아니더라도 저장할 수 있음\n",
    "\n",
    "#### 튜플(tuple)\n",
    "- 리스트와 동일하지만 크기나 값을 변경할 수 없다는 점이 리스트와 다름\n",
    "- 리스트와 유사하지만 크기가 고정되어 있기 때문에 메모리 측면에서 리스트에 비해 효율적\n",
    "\n",
    "#### 딕셔너리(dict)\n",
    "- : 탐색을 위한 자료구조\n",
    "- 파이썬은 키(key)와 관련된 값(value)로 이주어진 항목(entry)들의 집합을 위한 사전구조(dictionary), 또는 맵(map)을 지원\n",
    "- in연산자의 경우 리스트나 튜플과 딕셔너리에서 서로 다른 알고리즘을 사용하는데, 리스트나 튜플에서는 순차탐색 방법을 이용하지만 딕셔너리에서는 고급 탐색 구조인 해싱을 사용\n",
    "\n",
    "#### 집합(set)\n",
    "- 리스트와 비슷한 개념이지만 원소의 중복을 허용하지 않고 원소들 사이에 순서가 없다는 점이 리스트와 다르며, 선형 자료구조로 보기 어려움\n",
    "- 파이썬에서는 set과 frozenset의 두 가지 집합형을 제공하는데, frozenset은 내용을 변경할 수 없는 set임"
   ]
  },
  {
   "cell_type": "markdown",
   "id": "2a3b8339",
   "metadata": {},
   "source": [
    "### 사용자 정의 함수\n",
    "- 파이썬은 다양한 내장 함수를 제공\n",
    " - EX: input(), print(), type(), len(), ord()\n",
    "- 파이썬 프로그래머는 자신만의 함소, 즉 사용자 정의 함수를 만들어 사용할 수 있음\n",
    "- 함수의 정의와 호출\n",
    " - 함수는 함수 헤더부와 함수 몸체부로 나뉨\n",
    " - 헤더부는 def 키워드를 이용해 함수를 정의하고, 함수의 이름과 소괄호 (), 그리고 콜른 :이 이어짐\n",
    " - 소괄호에는 매개변수목록(함수로 전달되는 정보)이 나열됨\n",
    " - 콜른에 이어 함수 몸체(코드 블록)이 나타남\n",
    " - 인수: 함수를 호출할 때 함수에서 필요한 정보를 전달하는 값\n",
    " - 인수는 함수의 매개변수로 전달됨\n",
    "- 여러 값의 반환\n",
    " - 함수에서 처리된 결과를 되돌려 주기 위해 return 키워드를 사용\n",
    " - 사실 파이썬에서는 반환할 값들을 하나의 튜플로 만들어 반환한다고 할 수 있음\n",
    "- 디폴트 인수\n",
    " - 함수의 매개변수에 기본 값을 부여하는 기능으로, 함수 호출시 인수가 주어지면 그 인수를 사용하고, 만약 인수가 생략되면 기본 값을 사용하는 방법\n",
    "- 키워드 인수\n",
    " - :함수의 매개변수 이름에 직접 값을 지정하여 함수를 호출하는 거\n",
    " - 키워드 인수를 사용하면 인수의 순서를 바꾸어 함수를 호출할 수 있음"
   ]
  },
  {
   "cell_type": "code",
   "execution_count": 1,
   "id": "a65ca48a",
   "metadata": {},
   "outputs": [
    {
     "name": "stdout",
     "output_type": "stream",
     "text": [
      "(min,max) =  (1, 9)\n"
     ]
    }
   ],
   "source": [
    "def find_min_max(A) :     \n",
    "    min = A[0]\n",
    "    max = A[0]\n",
    "    for i in range(1, len(A)) :\n",
    "        if max < A[i] : max = A[i]\n",
    "        if min > A[i] : min = A[i]\n",
    "    return min, max       \n",
    "\n",
    "data = [ 5, 3, 8, 4, 9, 1, 6, 2, 7 ]\n",
    "x, y = find_min_max(data) \n",
    "print(\"(min,max) = \", (x,y))"
   ]
  },
  {
   "cell_type": "code",
   "execution_count": 2,
   "id": "e96b94c1",
   "metadata": {},
   "outputs": [
    {
     "name": "stdout",
     "output_type": "stream",
     "text": [
      "sum =  45\n",
      "sum =  25\n",
      "sum =  12\n"
     ]
    }
   ],
   "source": [
    "def sum_range(begin, end, step=1) :\n",
    "    sum = 0\n",
    "    for n in range(begin, end, step) :\n",
    "        sum += n\n",
    "    return sum\n",
    "\n",
    "print(\"sum = \", sum_range(1, 10))\n",
    "print(\"sum = \", sum_range(1, 10, 2))\n",
    "print(\"sum = \", sum_range(step=3, begin=1, end=10))"
   ]
  },
  {
   "cell_type": "markdown",
   "id": "86e5e868",
   "metadata": {},
   "source": [
    "### 변수의 범위\n",
    "- 총 4가지 범위(scope)로 구분됨\n",
    " - 내장 범위: 언어의 일부로 정의된 변수와 리터럴들을 말하는데 프로그램의 어디에서나 사용할 수 있음\n",
    " - 전역 범위: 소스 파일의 맨 꼭대기 레벨(함수나 클래스 밖)에서 생성된 변수들에 해당되며 프로그램 어디에서나 사용할 수 있음\n",
    " - 지역 범위: 함수의 클래스의 멤버함수(메소드) 안에서 생성된 변수들로 그 안에서만 사용할 수 있음(함수의 매개변수도 지역범위에 해당)\n",
    " - 인스턴스 범위: 클래스의 테이터 멤버로 생성된 변수들로 그 클래스 내의 다른 함수들에서 사용할 수 있음\n",
    "- 함수 내에서 전역 범수를 사용하는 경우 약간의 주의가 필요\n",
    " - 파이썬에서 값(리터럴)을 저장하면 새로운 변수가 생성되기 때문"
   ]
  },
  {
   "cell_type": "code",
   "execution_count": 3,
   "id": "1881d59e",
   "metadata": {},
   "outputs": [
    {
     "name": "stdout",
     "output_type": "stream",
     "text": [
      "파이 값:  3.14159\n",
      "원둘레(r=10) =  0\n"
     ]
    }
   ],
   "source": [
    "def calc_perimeter(radius) :\n",
    "    # global perimeter\n",
    "    print(\"파이 값: \", pi)\n",
    "    perimeter = 2*pi * radius\n",
    "\n",
    "pi = 3.14159\n",
    "perimeter = 0   \n",
    "calc_perimeter(10)\n",
    "print(\"원둘레(r=10) = \", perimeter)"
   ]
  },
  {
   "cell_type": "markdown",
   "id": "ea393e6a",
   "metadata": {},
   "source": [
    "### 모듈과 이름 공간(namespace)\n",
    "- 파이썬에서는 프로그래머가 손쉽게 자신만의 모듈을 만들어 사용할 수 있음\n",
    " - 큰 프로그램을 작성할 떼 모든 코드를 하나의 파일에 작성하지 않고 여러 개의 파일에 나누어 작성하고 실행할 수 있도록 지원함\n",
    "- 파이썬에서 모든 모듈들은 자신의 이름공간을 이루고 있는데, 같은 이름공간 안에서는 모든 식별자를 자유롭게 사용할 수 있음"
   ]
  },
  {
   "cell_type": "code",
   "execution_count": null,
   "id": "f04eba9b",
   "metadata": {},
   "outputs": [],
   "source": [
    "# 파일명: my_job.py\n",
    "import min_max\n",
    "import sum\n",
    "\n",
    "data = [ 5, 3, 8, 4, 9, 1, 6, 2, 7 ]\n",
    "print(\"(min,max) = \", min_max.find_min_max(data)) \n",
    "print(\"sum = \", sum.sum_range(1, 10))  "
   ]
  },
  {
   "cell_type": "code",
   "execution_count": null,
   "id": "79bf833d",
   "metadata": {},
   "outputs": [],
   "source": [
    "# 파일명: my_job.py\n",
    "from min_max import *\n",
    "from sum import *\n",
    "\n",
    "data = [ 5, 3, 8, 4, 9, 1, 6, 2, 7 ]\n",
    "print(\"(min,max) = \", find_min_max(data))\n",
    "print(\"sum = \", sum_range(1, 10)) "
   ]
  },
  {
   "cell_type": "markdown",
   "id": "e3ea0f6f",
   "metadata": {},
   "source": [
    "### 클래스\n",
    "- 파이썬은 함수가 중심이 되는 순서지향 프로그래밍(precedural)과 객체지향 프로그래밍(object oriented) 기법을 모두 지원\n",
    " - 객체지향 기법: 클래스와 객체가 중심이 되는 프로그래밍 전략\n",
    "- 클래스: 객체를 찍어내는 틀\n",
    " - 객체: 변수와 같이 자료를 저장하는 프로그램의 구성 요소 \n",
    " - 파이썬에서는 모든 자료가 클래스로부터 만들어진 객체임\n",
    "- 클래스 정의\n",
    " - 클래스는 속성을 나타내는 멤버 변수와 동작을 나타내는 멤버 함수 또는 메소드로 이루어짐\n",
    " - 모든 클래스는 생성자라고 불리는 특별한 멤버 함수를 지정해야 함\n",
    "- 생성자\n",
    " - :객체가 생성될 때마다 자동으로 호출되는 함수\n",
    " - 객체에서 사용할 데이터를 정의하고 초기화함\n",
    " - 클래스에 생성자가 정의되면 객체를 생성할 수 있음\n",
    "- 객체에 대한 연산"
   ]
  },
  {
   "cell_type": "code",
   "execution_count": 6,
   "id": "2c2ef237",
   "metadata": {},
   "outputs": [],
   "source": [
    "class Car :\n",
    "    def __init__(self, color, speed = 0) :\n",
    "        self.color = color            \n",
    "        self.speed = speed           \n",
    "    def speedUp(self) : self.speed += 10\n",
    "    def speedDown(self) : self.speed -= 10"
   ]
  },
  {
   "cell_type": "markdown",
   "id": "807700c2",
   "metadata": {},
   "source": [
    "### 연산자 중복\n",
    "- 파이썬에서는 사용자가 정의한 클래스의 객체들에게 표준 연산자들을 적용할 수 있도록 연산자 중복 함수를 허용함"
   ]
  },
  {
   "cell_type": "code",
   "execution_count": null,
   "id": "3d143184",
   "metadata": {},
   "outputs": [],
   "source": [
    "class Car :\n",
    "    def __init__(self, color, speed = 0) :\n",
    "        self.color = color            \n",
    "        self.speed = speed            \n",
    "    def speedUp(self) : self.speed += 10\n",
    "    def speedDown(self) : self.speed -= 10\n",
    "\n",
    "    def isEqual(self, carB) :\n",
    "        if self.color == carB.color : return True\n",
    "        else : return False\n",
    "    def __eq__(self, carB) : return self.color == carB.color\n",
    "\n",
    "print(\"car2==car6 : \", car2==car6)\n",
    "print(\"car3==car6 : \", car3==car6)"
   ]
  },
  {
   "cell_type": "markdown",
   "id": "3f26e2c6",
   "metadata": {},
   "source": [
    "### 상속\n",
    "- :기존에 정의된 클래스로부터 멤버를 추가해 새로운 클래스를 간편하게 만드는 방법\n",
    "- 클래스의 상속을 지원받음\n",
    " - 기본 클래스 또는 부모 클래스: 상속해주는 클래스\n",
    " - 파생 클래스 또는 자식 클래스: 상속받는 클래스\n",
    "- 보통 자식 클래스는 부모의 특화된 클래스이기 때문에, \"자식 is-a 부모\"의 관계를 가짐\n",
    "- 클래스의 상속\n",
    " - 부모 클래스의 모든 멤버가 자식에 포함됨\n",
    "- 객체의 생성\n",
    " - 자식 클래스에 생성자가 정의되면 자식 클래스의 객체를 생성할 수 있음\n",
    "- 메소드의 재정의\n",
    "- 파이썬 정리"
   ]
  },
  {
   "cell_type": "code",
   "execution_count": null,
   "id": "c97868f4",
   "metadata": {},
   "outputs": [],
   "source": [
    "class SuperCar(Car) :\n",
    "    def __init__(self, color, speed = 0, bTurbo = True) :\n",
    "        super().__init__(color, speed)\n",
    "        self.bTurbo = bTurbo  \n",
    "\n",
    "    def setTurbo(self, bTurbo = True) :\n",
    "        self.bTurbo = bTurbo\n",
    "\n",
    "    def speedUp(self) :\n",
    "        if self.bTurbo : \n",
    "            self.speed += 50\n",
    "        else :    \n",
    "            super().speedUp()\n",
    "\n",
    "    def __str__(self) :\n",
    "        if self.bTurbo :\n",
    "            return \"[%s] [speed = %d] 터보모드\" % (self.color, self.speed)\n",
    "        else :\n",
    "            return \"[%s] [speed = %d] 일반모드\" % (self.color, self.speed)\n",
    "\n",
    "s1.speedUp()\n",
    "s2.speedUp()\n",
    "print(\"슈퍼카1:\", s1)\n",
    "print(\"슈퍼카2:\", s2)"
   ]
  }
 ],
 "metadata": {
  "kernelspec": {
   "display_name": "Python 3 (ipykernel)",
   "language": "python",
   "name": "python3"
  },
  "language_info": {
   "codemirror_mode": {
    "name": "ipython",
    "version": 3
   },
   "file_extension": ".py",
   "mimetype": "text/x-python",
   "name": "python",
   "nbconvert_exporter": "python",
   "pygments_lexer": "ipython3",
   "version": "3.9.7"
  }
 },
 "nbformat": 4,
 "nbformat_minor": 5
}
