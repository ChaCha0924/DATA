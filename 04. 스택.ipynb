{
 "cells": [
  {
   "cell_type": "markdown",
   "id": "8bb9c481",
   "metadata": {},
   "source": [
    "## 04. 스택"
   ]
  },
  {
   "cell_type": "markdown",
   "id": "4a2e08c0",
   "metadata": {},
   "source": [
    "### 스택이란?\n",
    "#### 스택은 후입선출(LIFO)의 자료구조이다\n",
    "- : 자료의 입출력이 후입선출의 형태로 일어나는 자료구조\n",
    "- 리스트에서 항목 접근을 위한 다른 통로들을 모두 막고 후단만을 열어둔 구조\n",
    "- 열린곳을 스택 상단(top)이라 함\n",
    " - 삽입과 삭제는 상단만으로 할 수 있음(중간에서 항목의 삽입 및 삭제 불가)\n",
    "\n",
    "#### 스택의 추상 자료형\n",
    "- 스택에는 숫자, 문자열 클래스의 객체, 여러 항목을 가진 리스트 등 어떤 자료든지 저장 가능\n",
    "- Stack ADT\n",
    " - Stack(), isEmpty(), push(e), pop(), peek(), size(), clear()\n",
    "\n",
    "#### 스택은 어디에 사용할까?\n",
    "- 자료의 출력순서가 입력의 역순으로 이루어져야 할 경우\n",
    " - 되돌리기, 이전 페이지로 이동, 함수 호출에서의 복귀주소를 기억할 때, 괄호 닫기 검검사, 계산기 프로그램 등"
   ]
  },
  {
   "cell_type": "markdown",
   "id": "f03e4c38",
   "metadata": {},
   "source": [
    "### 스택의 구현\n",
    "#### 배열 구조를 이용한 스택의 함수 구현\n",
    "- 스택 항목들을 저장하는 가장 간단한 방법은 배열 구조를 사용하는 것\n",
    "- isEmpty(): 공백 상태 검사\n",
    "- push(item): 삽입 연산\n",
    " - : 스택 상단에 항목을 추가하는 것\n",
    " - 보통 리스트의 맨 뒤를 스택의 상단으로 사용\n",
    " - 시간 복잡도: O(1)\n",
    " - append()가 아닌 insert() 메소드 사용하여 번 위치에 항목 삽입시 시간 복잡도는 O(n)\n",
    "- pop(): 삭제 연산\n",
    " - :스택 상단에서 항목을 하나 꺼내고 이를 반환하는 것\n",
    " - 리스트 top의 마지막 항목의 위치: len(top)-1\n",
    " - 스택이 공백이면 pop연산 처리 불가\n",
    " - 삭제 연산의 시간 복잡도: O(1)\n",
    "- 기타 연산들\n",
    " - peek는 리스트의 마지막 항목을 반환하여 스택 내용에는 변화가 없음\n",
    "- 모든 연산의 시간 복잡도: O(1)\n",
    " - 리스트의 맨 앞을 상단하면 삽입과 삭제 연산의 시간복잡도는 O(n)으로 변화\n",
    " \n",
    "#### 스택의 활용\n",
    "- 파이썬에서는 리스트에 객체가 직접 저장되는 것이 아니라객체를 가리키는 변수가 저장되기 때문에 변수가 가리키는 객체가 어떤 것이든 상관없음\n",
    " \n",
    "#### 배열 구조를 이용한 스택의 클래스 구현\n",
    "- 여러 개의 스택을 사용하려면 클래스로 구현하는 것이 좋음"
   ]
  },
  {
   "cell_type": "code",
   "execution_count": 1,
   "id": "d289596f",
   "metadata": {},
   "outputs": [],
   "source": [
    "top = [ ]               \n",
    "\n",
    "def isEmpty():\n",
    "    return len(top) == 0\n",
    "\n",
    "def push(item):\n",
    "    top.append(item)\n",
    "\n",
    "def pop():\n",
    "    if not isEmpty():\n",
    "        return top.pop(-1)\n",
    "\n",
    "def peek():  \n",
    "    if not isEmpty():\n",
    "        return top[-1]\n",
    "\n",
    "def size(): return len(top)\n",
    "def clear(): \n",
    "    global top     \n",
    "    top = []     "
   ]
  },
  {
   "cell_type": "code",
   "execution_count": 2,
   "id": "1e0fe1e7",
   "metadata": {},
   "outputs": [
    {
     "name": "stdout",
     "output_type": "stream",
     "text": [
      " push 5회:  [1, 2, 3, 4, 5]\n",
      " pop() -->  5\n",
      " pop() -->  4\n",
      " pop  2회:  [1, 2, 3]\n",
      " push+2회:  [1, 2, 3, '홍길동', '이순신']\n",
      " pop() -->  이순신\n",
      " pop  1회:  [1, 2, 3, '홍길동']\n"
     ]
    }
   ],
   "source": [
    "for i in range(1,6):\n",
    "    push(i)       \n",
    "print(' push 5회: ', top)\n",
    "print(' pop() --> ', pop())\n",
    "print(' pop() --> ', pop())\n",
    "print(' pop  2회: ', top)\n",
    "\n",
    "\n",
    "push('홍길동')\n",
    "push('이순신')\n",
    "print(' push+2회: ', top)\n",
    "print(' pop() --> ', pop())\n",
    "print(' pop  1회: ', top)"
   ]
  },
  {
   "cell_type": "code",
   "execution_count": 3,
   "id": "3bb622ad",
   "metadata": {},
   "outputs": [],
   "source": [
    "class Stack :\n",
    "    def __init__( self ):   \n",
    "        self.top = []       \n",
    "\n",
    "    def isEmpty( self ): return len(self.top) == 0\n",
    "    def size( self ): return len(self.top)\n",
    "    def clear( self ): self.top = []\n",
    "\n",
    "    def push( self, item ):\n",
    "        self.top.append(item)\n",
    "\n",
    "    def pop( self ):\n",
    "        if not self.isEmpty():\n",
    "            return self.top.pop(-1)\n",
    "\n",
    "    def peek( self ):\n",
    "        if not self.isEmpty():\n",
    "            return self.top[-1]\n",
    "\n",
    "    def __str__(self ):\n",
    "        return str(self.top[::-1])"
   ]
  },
  {
   "cell_type": "code",
   "execution_count": 5,
   "id": "a1f15441",
   "metadata": {},
   "outputs": [
    {
     "name": "stdout",
     "output_type": "stream",
     "text": [
      " 스택 even push 5회:  [0, 2, 4, 6, 8]\n",
      " 스택 odd  push 5회:  [1, 3, 5, 7, 9]\n",
      " 스택 even     peek:  8\n",
      " 스택 odd      peek:  9\n",
      " 스택 even  pop 2회:  [0, 2, 4]\n",
      " 스택 odd   pop 3회:  [1, 3]\n"
     ]
    }
   ],
   "source": [
    "odd = Stack()    \n",
    "even = Stack()    \n",
    "for i in range(10):   \n",
    "    if i%2 == 0 : even.push(i) \n",
    "    else : odd.push(i)\n",
    "print(' 스택 even push 5회: ', even.top) # even은 객체이지만 even.top은 리스트 객체\n",
    "print(' 스택 odd  push 5회: ', odd.top)\n",
    "print(' 스택 even     peek: ', even.peek())\n",
    "print(' 스택 odd      peek: ', odd.peek())\n",
    "for _ in range(2) : even.pop()\n",
    "for _ in range(3) : odd.pop()\n",
    "print(' 스택 even  pop 2회: ', even.top)\n",
    "print(' 스택 odd   pop 3회: ', odd.top)"
   ]
  },
  {
   "cell_type": "code",
   "execution_count": 8,
   "id": "4896ca14",
   "metadata": {},
   "outputs": [
    {
     "name": "stdout",
     "output_type": "stream",
     "text": [
      " 스택 even push 5회:  [8, 6, 4, 2, 0]\n",
      " 스택 odd  push 5회:  [9, 7, 5, 3, 1]\n",
      " 스택 even     peek:  8\n",
      " 스택 odd      peek:  9\n",
      " 스택 even  pop 2회:  [4, 2, 0]\n",
      " 스택 odd   pop 3회:  [3, 1]\n"
     ]
    }
   ],
   "source": [
    "def __str__(self):\n",
    "    return str(self.top[::-1])\n",
    "odd = Stack()        \n",
    "even = Stack()        \n",
    "for i in range(10):  \n",
    "    if i%2 == 0 : even.push(i) \n",
    "    else : odd.push(i)    \n",
    "print(' 스택 even push 5회: ', even)\n",
    "print(' 스택 odd  push 5회: ', odd)\n",
    "print(' 스택 even     peek: ', even.peek())\n",
    "print(' 스택 odd      peek: ', odd.peek())\n",
    "for _ in range(2) : even.pop()\n",
    "for _ in range(3) : odd.pop()\n",
    "print(' 스택 even  pop 2회: ', even)\n",
    "print(' 스택 odd   pop 3회: ', odd)"
   ]
  },
  {
   "cell_type": "markdown",
   "id": "7bf21de0",
   "metadata": {},
   "source": [
    "### 스택의 응용: 괄호 검사\n",
    "- 수식 표기나 프로그래밍 언어, HTML 문서 등 다양한 분야에서 괄호와 같은 구분 문자들을 사용\n",
    "- 주로 간단한 데이터나 문자열들을 묶어 하나의 그룹으로 만들 때 그룹의 시작과 끝을 나타냄\n",
    " - 조건 1: 왼쪽 괄호의 개수와 오른쪽 괄호의 개수가 같아야 한다\n",
    " - 조건 2: 같은 타입의 괄호에서 왼쪽 괄호가 오른쪽 괄호보다 먼저 나와야 한다\n",
    " - 조건 3: 서로 다른 타입의 괄호 쌍이 서로를 교차하면 안 된다\n",
    " \n",
    "#### 괄호 검사 알고리즘\n",
    "- 입력 문자열에서 왼쪽 괄호가 나오면 스택에 삽입하고, 오른쪽 괄호가 나오면 스택에서 가장 최근에 삽입된 괄호를 꺼내 짝을 맞추어보는 과정을 통해 오류를 검사할 수 있음\n",
    "\n",
    "#### 괄호 검사 구현\n",
    "- 파이썬에서 튜플은 리스트와 비슷하게 사용되지만 항목의 개수를 변경할 수 없기 때문에 동적 배열로 구현된 리스트보다 메모리 측면에서 훨씬 효율적\n",
    "\n",
    "#### 소스 파일에서 괄호 검사"
   ]
  },
  {
   "cell_type": "code",
   "execution_count": 9,
   "id": "961bd008",
   "metadata": {},
   "outputs": [],
   "source": [
    "def checkBrackets(statement):\n",
    "    stack = Stack()\n",
    "    for ch in statement:   \n",
    "        if ch in ('{', '[', '('):\n",
    "            stack.push(ch)\n",
    "        elif ch in ('}', ']', ')'):\n",
    "            if stack.isEmpty() :\n",
    "                return False\n",
    "            else :\n",
    "                left = stack.pop()\n",
    "                if (ch == \"}\" and left != \"{\") or \\\n",
    "                   (ch == \"]\" and left != \"[\") or \\\n",
    "                   (ch == \")\" and left != \"(\") :\n",
    "                    return False\n",
    "\n",
    "    return stack.isEmpty()  "
   ]
  },
  {
   "cell_type": "code",
   "execution_count": 10,
   "id": "ba096b10",
   "metadata": {},
   "outputs": [
    {
     "name": "stdout",
     "output_type": "stream",
     "text": [
      "{ A[(i+1)] = 0; }  --->  True\n",
      "if( (i==0) && (j==0 )  --->  False\n",
      "A[ (i+1] ) = 0;  --->  False\n"
     ]
    }
   ],
   "source": [
    "str = ( \"{ A[(i+1)] = 0; }\", \"if( (i==0) && (j==0 )\", \"A[ (i+1] ) = 0;\" )\n",
    "for s in str:\n",
    "    m = checkBrackets(s)\n",
    "    print(s,\" ---> \", m)"
   ]
  },
  {
   "cell_type": "markdown",
   "id": "a61e69cf",
   "metadata": {},
   "source": [
    "### 스택의 응용: 수식의 계산\n",
    "#### 계산기 프로그램은 어떻게 만들까?\n",
    "- 연산자와 피연산자의 상대적인 위치에 따른 구분\n",
    " - 전위(prefix): 연산자, 피연산자1, 피연산자2\n",
    " - 중위(infix): 피연산자1, 연산자, 피연산자2\n",
    " - 후위(postfix): 피연산자1, 피연산자2, 연산자\n",
    "- 보통 중위표기법이 익숙하지만 컴퓨터는 후위표기법을 선호\n",
    " - 괄호를 사용하지 않아도 계산순서를 알 수 있음\n",
    " - 연산자의 우선순위를 생각할 필요가 없음\n",
    " - 수식을 읽으면서 바로 계산 가능\n",
    "- 계산기 프로그램을 위해서는 중위표기의 후위표기 변환과, 후위표기 수식의 계산 과정이 필요(스택 이용)\n",
    "\n",
    "#### 후위표기 수식 계산 구현\n",
    "- 저장되는 피연산자의 자료형은 실수형이 좋음\n",
    " - float(str), int(str): 문자열 str을 실수나 정수로 변환하는 형 변환 함수\n",
    " \n",
    "#### 스택을 이용한 중위표기 수식의 후기표기 변환\n",
    "- 중위표기식의 후위 변환\n",
    " - 입력된 중위표기 수식을 순서대로 하나씩 스캔\n",
    " - 피연산자를 만다면 바로(후위표기 수식으로) 출력\n",
    " - 연산자를 만나면 잠시 저장: 후위표기에서 연산자가 피연산자들 뒤에 나오기 때문(연산자 저장에는 스택 사용)\n",
    " - 현재 연산자 보다 우선순위가 높은 연산자는 모두 먼저 출력한 후 현재 연산자를 스택에 넣음\n",
    " - 우선순위가 같은 경우도 먼저 출력\n",
    " - 입력 수식이 끝나면 스택의 남은 연산자들은 모두 pop()해서 후위표기 수식으로 출력\n",
    "- 괄호를 포함한 중식표기 수식의 후위 수식변환\n",
    " - 왼쪽 괄호는 무조건 스택에 삽입 후, 왼쪽 괄호를 제일 우선순위가 낮은 연산자로 취굽\n",
    " - 오른쪽 괄호를 만나면 왼쪽 괄호가 삭제될 때까지 왼쪽 괄호위에 쌓여있는 모든 연산자들을 출력"
   ]
  },
  {
   "cell_type": "code",
   "execution_count": 13,
   "id": "0511bfb6",
   "metadata": {},
   "outputs": [
    {
     "name": "stdout",
     "output_type": "stream",
     "text": [
      "['8', '2', '/', '3', '-', '3', '2', '*', '+']  -->  7.0\n",
      "['1', '2', '/', '4', '*', '1', '4', '/', '*']  -->  0.5\n"
     ]
    }
   ],
   "source": [
    "def evalPostfix( expr ):\n",
    "    s = Stack()       \n",
    "    for token in expr :\n",
    "        if token in \"+-*/\" :\n",
    "            val2 = s.pop()\n",
    "            val1 = s.pop()\n",
    "            if (token == '+'): s.push(val1 + val2)\n",
    "            elif (token == '-'): s.push(val1 - val2)\n",
    "            elif (token == '*'): s.push(val1 * val2)\n",
    "            elif (token == '/'): s.push(val1 / val2)\n",
    "        else :        \n",
    "            s.push( float(token) )\n",
    "\n",
    "    return s.pop()       \n",
    "\n",
    "expr1 = [ '8', '2', '/', '3', '-', '3', '2', '*', '+']\n",
    "expr2 = [ '1', '2', '/', '4', '*', '1', '4', '/', '*']\n",
    "print(expr1, ' --> ', evalPostfix(expr1))\n",
    "print(expr2, ' --> ', evalPostfix(expr2))"
   ]
  },
  {
   "cell_type": "code",
   "execution_count": 16,
   "id": "ebef867e",
   "metadata": {},
   "outputs": [],
   "source": [
    "def precedence (op):        \n",
    "    if   op=='(' or op==')' : return 0\n",
    "    elif op=='+' or op=='-' : return 1\n",
    "    elif op=='*' or op=='/' : return 2\n",
    "    else : return -1\n",
    "\n",
    "\n",
    "def Infix2Postfix( expr ):\n",
    "    s = Stack()\n",
    "    output = []     \n",
    "    for term in expr :\n",
    "        if term in '(' :\n",
    "            s.push('(')\t\n",
    "        elif term in ')' :\n",
    "            while not s.isEmpty() :\n",
    "                op = s.pop()\n",
    "                if op=='(' : break;\n",
    "                else :\n",
    "                    output.append(op)\n",
    "        elif term in \"+-*/\" :\n",
    "            while not s.isEmpty() :\n",
    "                op = s.peek()\n",
    "                if( precedence(term) <= precedence(op)):\n",
    "                    output.append(op)\n",
    "                    s.pop()\n",
    "                else: break\n",
    "            s.push(term)\n",
    "        else :\n",
    "            output.append(term)\n",
    "\n",
    "    while not s.isEmpty() :\n",
    "        output.append(s.pop())\n",
    "\n",
    "    return output"
   ]
  },
  {
   "cell_type": "code",
   "execution_count": 29,
   "id": "6d887a0d",
   "metadata": {},
   "outputs": [
    {
     "name": "stdout",
     "output_type": "stream",
     "text": [
      "  중위표기:  ['8', '/', '2', '-', '3', '+', '(', '3', '*', '2', ')']\n",
      "  후위표기:  ['8', '2', '/', '3', '-', '3', '2', '*', '+']\n",
      "  계산결과:  7.0\n",
      "\n",
      "  중위표기:  ['1', '/', '2', '*', '4', '*', '(', '1', '/', '4', ')']\n",
      "  후위표기:  ['1', '2', '/', '4', '*', '1', '4', '/', '*']\n",
      "  계산결과:  0.5\n"
     ]
    }
   ],
   "source": [
    "infix1 = [ '8', '/', '2', '-', '3', '+', '(', '3', '*', '2', ')']\n",
    "infix2 = [ '1', '/', '2', '*', '4', '*', '(', '1', '/', '4', ')']\n",
    "postfix1 = Infix2Postfix(infix1)\n",
    "postfix2 = Infix2Postfix(infix2)\n",
    "result1 = evalPostfix(postfix1)\n",
    "result2 = evalPostfix(postfix2)\n",
    "print('  중위표기: ', infix1)\n",
    "print('  후위표기: ', postfix1)\n",
    "print('  계산결과: ', result1, end='\\n\\n')\n",
    "print('  중위표기: ', infix2)\n",
    "print('  후위표기: ', postfix2)\n",
    "print('  계산결과: ', result2)"
   ]
  },
  {
   "cell_type": "markdown",
   "id": "76943adc",
   "metadata": {},
   "source": [
    "### 스택의 응용: 미로 탐색\n",
    "#### 미로에 빠진 생쥐를 구출하자\n",
    "- 깊이 우선 탐색(DFS, Depth First Search)\n",
    "\n",
    "#### 스택을 이용한 깊이우선탐색의 구현\n",
    "- 파이썬에서 튜플을 이용해 여러 개의 값을 동시에 바꿀 수 있음\n",
    "- 같은 함수에서 여러 개의 값 반환 가능"
   ]
  },
  {
   "cell_type": "code",
   "execution_count": 27,
   "id": "0e137b9f",
   "metadata": {},
   "outputs": [],
   "source": [
    "def isValidPos(x, y) :\n",
    "    if x < 0 or y < 0 or x >= MAZE_SIZE or y >= MAZE_SIZE :\n",
    "        return False\n",
    "    else :    \n",
    "        return map[y][x] == '0' or map[y][x] == 'x'\n",
    "\n",
    "\n",
    "def DFS() :\n",
    "    stack = Stack()\n",
    "    stack.push( (0,1) )\n",
    "    print('DFS: ')\n",
    "\n",
    "    while not stack.isEmpty(): \n",
    "        here = stack.pop()  \n",
    "        print(here, end='->')\n",
    "        (x, y) = here    \n",
    "        if (map[y][x] == 'x') :\n",
    "            return True\n",
    "        else :\n",
    "            map[y][x] = '.'\n",
    "            \n",
    "            if isValidPos(x, y - 1): stack.push((x, y - 1)) \n",
    "            if isValidPos(x, y + 1): stack.push((x, y + 1)) \n",
    "            if isValidPos(x - 1, y): stack.push((x - 1, y)) \n",
    "            if isValidPos(x + 1, y): stack.push((x + 1, y)) \n",
    "        print(' 현재 스택: ', stack)\n",
    "    return False         "
   ]
  },
  {
   "cell_type": "code",
   "execution_count": 28,
   "id": "3f32c120",
   "metadata": {},
   "outputs": [
    {
     "name": "stdout",
     "output_type": "stream",
     "text": [
      "DFS: \n",
      "(0, 1)-> 현재 스택:  "
     ]
    },
    {
     "ename": "TypeError",
     "evalue": "'tuple' object is not callable",
     "output_type": "error",
     "traceback": [
      "\u001b[1;31m---------------------------------------------------------------------------\u001b[0m",
      "\u001b[1;31mTypeError\u001b[0m                                 Traceback (most recent call last)",
      "\u001b[1;32m~\\AppData\\Local\\Temp/ipykernel_8400/4056995698.py\u001b[0m in \u001b[0;36m<module>\u001b[1;34m\u001b[0m\n\u001b[0;32m      6\u001b[0m \t  [ '1', '1', '1', '1', '1', '1' ]]\n\u001b[0;32m      7\u001b[0m \u001b[0mMAZE_SIZE\u001b[0m \u001b[1;33m=\u001b[0m \u001b[1;36m6\u001b[0m\u001b[1;33m\u001b[0m\u001b[1;33m\u001b[0m\u001b[0m\n\u001b[1;32m----> 8\u001b[1;33m \u001b[0mresult\u001b[0m \u001b[1;33m=\u001b[0m \u001b[0mDFS\u001b[0m\u001b[1;33m(\u001b[0m\u001b[1;33m)\u001b[0m\u001b[1;33m\u001b[0m\u001b[1;33m\u001b[0m\u001b[0m\n\u001b[0m\u001b[0;32m      9\u001b[0m \u001b[1;32mif\u001b[0m \u001b[0mresult\u001b[0m \u001b[1;33m:\u001b[0m \u001b[0mprint\u001b[0m\u001b[1;33m(\u001b[0m\u001b[1;34m' --> 미로탐색 성공'\u001b[0m\u001b[1;33m)\u001b[0m\u001b[1;33m\u001b[0m\u001b[1;33m\u001b[0m\u001b[0m\n\u001b[0;32m     10\u001b[0m \u001b[1;32melse\u001b[0m \u001b[1;33m:\u001b[0m \u001b[0mprint\u001b[0m\u001b[1;33m(\u001b[0m\u001b[1;34m' --> 미로탐색 실패'\u001b[0m\u001b[1;33m)\u001b[0m\u001b[1;33m\u001b[0m\u001b[1;33m\u001b[0m\u001b[0m\n",
      "\u001b[1;32m~\\AppData\\Local\\Temp/ipykernel_8400/50147992.py\u001b[0m in \u001b[0;36mDFS\u001b[1;34m()\u001b[0m\n\u001b[0;32m     24\u001b[0m             \u001b[1;32mif\u001b[0m \u001b[0misValidPos\u001b[0m\u001b[1;33m(\u001b[0m\u001b[0mx\u001b[0m \u001b[1;33m-\u001b[0m \u001b[1;36m1\u001b[0m\u001b[1;33m,\u001b[0m \u001b[0my\u001b[0m\u001b[1;33m)\u001b[0m\u001b[1;33m:\u001b[0m \u001b[0mstack\u001b[0m\u001b[1;33m.\u001b[0m\u001b[0mpush\u001b[0m\u001b[1;33m(\u001b[0m\u001b[1;33m(\u001b[0m\u001b[0mx\u001b[0m \u001b[1;33m-\u001b[0m \u001b[1;36m1\u001b[0m\u001b[1;33m,\u001b[0m \u001b[0my\u001b[0m\u001b[1;33m)\u001b[0m\u001b[1;33m)\u001b[0m\u001b[1;33m\u001b[0m\u001b[1;33m\u001b[0m\u001b[0m\n\u001b[0;32m     25\u001b[0m             \u001b[1;32mif\u001b[0m \u001b[0misValidPos\u001b[0m\u001b[1;33m(\u001b[0m\u001b[0mx\u001b[0m \u001b[1;33m+\u001b[0m \u001b[1;36m1\u001b[0m\u001b[1;33m,\u001b[0m \u001b[0my\u001b[0m\u001b[1;33m)\u001b[0m\u001b[1;33m:\u001b[0m \u001b[0mstack\u001b[0m\u001b[1;33m.\u001b[0m\u001b[0mpush\u001b[0m\u001b[1;33m(\u001b[0m\u001b[1;33m(\u001b[0m\u001b[0mx\u001b[0m \u001b[1;33m+\u001b[0m \u001b[1;36m1\u001b[0m\u001b[1;33m,\u001b[0m \u001b[0my\u001b[0m\u001b[1;33m)\u001b[0m\u001b[1;33m)\u001b[0m\u001b[1;33m\u001b[0m\u001b[1;33m\u001b[0m\u001b[0m\n\u001b[1;32m---> 26\u001b[1;33m         \u001b[0mprint\u001b[0m\u001b[1;33m(\u001b[0m\u001b[1;34m' 현재 스택: '\u001b[0m\u001b[1;33m,\u001b[0m \u001b[0mstack\u001b[0m\u001b[1;33m)\u001b[0m\u001b[1;33m\u001b[0m\u001b[1;33m\u001b[0m\u001b[0m\n\u001b[0m\u001b[0;32m     27\u001b[0m     \u001b[1;32mreturn\u001b[0m \u001b[1;32mFalse\u001b[0m\u001b[1;33m\u001b[0m\u001b[1;33m\u001b[0m\u001b[0m\n",
      "\u001b[1;32m~\\AppData\\Local\\Temp/ipykernel_8400/1320581826.py\u001b[0m in \u001b[0;36m__str__\u001b[1;34m(self)\u001b[0m\n\u001b[0;32m     19\u001b[0m \u001b[1;33m\u001b[0m\u001b[0m\n\u001b[0;32m     20\u001b[0m     \u001b[1;32mdef\u001b[0m \u001b[0m__str__\u001b[0m\u001b[1;33m(\u001b[0m\u001b[0mself\u001b[0m \u001b[1;33m)\u001b[0m\u001b[1;33m:\u001b[0m\u001b[1;33m\u001b[0m\u001b[1;33m\u001b[0m\u001b[0m\n\u001b[1;32m---> 21\u001b[1;33m         \u001b[1;32mreturn\u001b[0m \u001b[0mstr\u001b[0m\u001b[1;33m(\u001b[0m\u001b[0mself\u001b[0m\u001b[1;33m.\u001b[0m\u001b[0mtop\u001b[0m\u001b[1;33m[\u001b[0m\u001b[1;33m:\u001b[0m\u001b[1;33m:\u001b[0m\u001b[1;33m-\u001b[0m\u001b[1;36m1\u001b[0m\u001b[1;33m]\u001b[0m\u001b[1;33m)\u001b[0m\u001b[1;33m\u001b[0m\u001b[1;33m\u001b[0m\u001b[0m\n\u001b[0m",
      "\u001b[1;31mTypeError\u001b[0m: 'tuple' object is not callable"
     ]
    }
   ],
   "source": [
    "map = [ [ '1', '1', '1', '1', '1', '1' ],\n",
    "\t  [ 'e', '0', '0', '0', '0', '1' ],\n",
    "\t  [ '1', '0', '1', '0', '1', '1' ],\n",
    "\t  [ '1', '1', '1', '0', '0', 'x' ],\n",
    "\t  [ '1', '1', '1', '0', '1', '1' ],\n",
    "\t  [ '1', '1', '1', '1', '1', '1' ]]\n",
    "MAZE_SIZE = 6\n",
    "result = DFS()\n",
    "if result : print(' --> 미로탐색 성공')\n",
    "else : print(' --> 미로탐색 실패')"
   ]
  }
 ],
 "metadata": {
  "kernelspec": {
   "display_name": "Python 3 (ipykernel)",
   "language": "python",
   "name": "python3"
  },
  "language_info": {
   "codemirror_mode": {
    "name": "ipython",
    "version": 3
   },
   "file_extension": ".py",
   "mimetype": "text/x-python",
   "name": "python",
   "nbconvert_exporter": "python",
   "pygments_lexer": "ipython3",
   "version": "3.9.7"
  }
 },
 "nbformat": 4,
 "nbformat_minor": 5
}
