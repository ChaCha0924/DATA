{
 "cells": [
  {
   "cell_type": "markdown",
   "id": "70ff59db",
   "metadata": {},
   "source": [
    "## 08. 트리"
   ]
  },
  {
   "cell_type": "markdown",
   "id": "9795d63b",
   "metadata": {},
   "source": [
    "### 트리란?\n",
    "#### 계층적인 자료의 표현에 적합한 자료구조\n",
    "- :계층적인 관계를 가진 자료의 표현에 유효한 자료구조\n",
    " - 리스트나 스택, 큐, 덱 등은 모두 자료들이 일렬로 나열된 형태의 선형 자료 구조\n",
    "- 컴퓨터에서 트리는 다양한 응용을 가짐\n",
    " - 폴더 구조의 표현, 효율적인 탐색을 위한 탐색트리, 우선순위 큐를 위한 힙 트리, 인공지능 문제에서 의사결정 구조를 표현하기 위한 결정 트리\n",
    "- 트리의 용어\n",
    " - 트리는 한 개 이상의 노드로 이루어짐\n",
    " - 루트 노드, 간선 또는 에지, 부모 노드와 자식 노드, 형제 노드, 조상 노드와 자손 노드, 단말 노드, 노드의 차수, 트리의 차수, 레벨, 트리의 높이, 포리스트\n",
    "- 트리는 순환적으로 정의되는데, 트리에서 모든 노드는 자신의 서브트리의 루트 노드\n",
    "- 각 노드가 하나의 서브 트리를 대표하며, 이러한 특징에 의해 트리에서는 순환 알고리즘이 흔히 사용됨\n",
    "\n",
    "#### 일반트리의 표현 방법\n",
    "- 트리를 표현하는 가장 일반적인 방법은 트리 노드를 연결된 구조에서의 노드 형태로 표현하는 것\n",
    " - 이때 노드는 항목 값을 저장하는 데이터 필드와 자식 노드를 가리키는 여러개의 링크를 가짐\n",
    " - 노드의 차수만틈의 링크가 필요(링크의 개수는 자식 노드의 수에 따라 다름)\n",
    "- 일반 트리: 노드들이 임의의 개수의 자식을 가질 수 있는 트리\n",
    " - 일반 트리에서는 노드마다 링크의 수가 다르기 때문에 링크를 리스트와 같이 복잡한 형태로 관리해야함\n",
    "- 노드의 형태를 단순환하여 일반 트리를 표현할 수도 있음(두개의 링크를 갖도록 하는 방법)\n",
    " - 하나는 첫 번째 자식을 가리키고, 다른 하나는 다음 형제를 가리키기 위해 사용됨\n",
    "- 이진 트리\n",
    " - :자식 노드의 개수가 항상 2개 이하인 트리\n",
    " - 왼쪽 자식과 오른쪽 자식은 정확히 구별되는데, 부모는 왼쪽과 오른쪽 자식에 바로 접근할 수 있음\n",
    " - 실제로 좀 더 단순한 형태의 트리인 이진트리를 많이 사용(이진트리는 가장 많이 사용되는 트리의 형태)"
   ]
  },
  {
   "cell_type": "markdown",
   "id": "c01f905a",
   "metadata": {},
   "source": [
    "### 이진트리\n",
    "#### 이진트리는 순환적으로 정의된다.\n",
    "- 이진트리: 모든 노드가 2개의 서브 트리를 갖는 트리\n",
    " - 모든 노드의 차수가 2 이하로, 최대 2개까지의 자식 노드를 가질 수 있는데, 자식들 사이에도 순서가 존재하므로 왼쪽 자식과 오른쪽 자식은 반드시 구별되어야 함\n",
    " - 서브 트리는 공집할일 수 있음\n",
    "- 이진 트리의 정의\n",
    " - (1) 공집합이거나\n",
    " - (2) 루트와 왼쪽 서브 트리, 오른쪽 서브 트리로 구성된 노드들의 집합. 이진트리의 서브 트리들은 모두 이진트리이어야 함\n",
    " \n",
    "#### 이진트리의 종류와 성질\n",
    "- 포화이진트리\n",
    " - :트리의 각 레벨에 노드가 꽉 차있는 이진트리\n",
    " - 전체 노드 개수: 2^k - 1\n",
    " - 각 노드에 순서대로 번호를 붙일 수 있으며, 이 번호는 항상 일정함\n",
    "- 완전이진트리\n",
    " - :높이가 k인 트리에서 레벨 1부터 k - 1까지는 노드가 모두 채워져 있고, 마지막 레벨 k에서는 왼쪽부터 오른쪽으로 노드가 순서대로 채워져 있는 이진트리\n",
    " - 마지막 레벨에서는 노드가 꽉차있지 않아도 되지만 중간에 빈곳이 있으면 안됨\n",
    " - 포화이진트리는 완전이진트리이지만 그 역은 항상 성립하지는 않음\n",
    " - 완전이진트리의 대표적인 예: 힙\n",
    "\n",
    "- 이진트리의 성질\n",
    " - 루트를 제외한 트리의 모든 노드가 하나의 부모노드를 가지기 때문에 n개의 노드를 가진 트리는 n-1개의 간선을 가짐(부모와 자식 간에는 하나의 간선만이 존재)\n",
    " - 간선의 개수: n - 1\n",
    " - 높이가 h인 이진트리는 h개 이상, 2^h - 1개 이하의 노드를 가짐\n",
    " - 한 레벨에는 적어도 하나의 노드는 존재해야 하므로 높이가 h인 이진트리는 최소한 h개의 노드를 가져야 하며, 하나의 노드는 최대 2개의 자식을 가질 수 있으므로 레벨 i에서의 노드의 최대개수는 2^(i-1)\n",
    " - 높이가 h인 이진트리의 최대 노드 개수: 2^h - 1\n",
    " - n개의 노드를 가지는 이진트리의 높이는 [log2(n + 1)]이상이고 n이하\n",
    " - 한 레벨에서 최소한 하나의 노드는 있어야 하므로 높이가 n을 넘을 수 없기 때문에 높이 h의 이진트리가 가질수 있는 노드의 최댓값은 2^h - 1\n",
    " \n",
    "#### 이진트리의 표현 방법\n",
    "- 배열 표현법\n",
    " - 포화이진트리에서 노드에 번호를 붙이는 방법을 공부했는데, 이 번호를 배열의 인덱스로 사용하면 이진트리를 배열 구조로 표현할 수 있음\n",
    " - 배열 항목 사이에 빈칸이 발생하지 않기 때문에 포화이진트리나 완전이진트리에 가장 적합\n",
    " - 배열 표현법으로 일반 이진트리도 표현할 수 있으나 트리가 심한 경사를 나타내는 경우에는 배열 항목 사이에 사용하지 않는 빈 칸이 많이 발생하여 메모리의 낭비가 심해질 수 있음\n",
    " \n",
    " - 배열 표현법에서는 어떤 노드의 인덱스를 알면 그 노드의 부모나 자식 노드의 인덱스를 계산할 수 있음\n",
    " - 노드 i의 부모 노드 인덱스 = i / 2(부모 노드의 인덱스 계산에 정수간의 나눗셈이 사용되어야 함)\n",
    " - 노드 i의 왼쪽 자식 노드 인덱스 = 2i\n",
    " - 노드 i의 오른쪽 자식 노드 인덱스 = 2i + 1\n",
    " - 간단하지만 기억공간의 낭비와 함께 표현할 수 있는 트리의 높이가 배열의 크기에 따라 제한되는 단점이 있음\n",
    "- 링크 표현법\n",
    " - 연결된 구조로도 이진트리를 표현할 수 있음\n",
    " - 이진트리를 위한 노드의 구조는 두 개의 링크가 필요하고 이들은 각각 왼쪽과 오른쪽 자식 노드를 가리키며, 좌우 링크를 반드시 구별되어야 함  "
   ]
  },
  {
   "cell_type": "code",
   "execution_count": 1,
   "id": "ad8af858",
   "metadata": {},
   "outputs": [],
   "source": [
    "# 이진트리를 위한 노드 클래스 \n",
    "class TNode:\n",
    "    def __init__ (self, data, left, right):\n",
    "        self.data = data \n",
    "        self.left = left\n",
    "        self.right = right"
   ]
  },
  {
   "cell_type": "markdown",
   "id": "67483ae3",
   "metadata": {},
   "source": [
    "### 이진트리의 연산\n",
    "#### 트리의 모든 노드를 방문하는 방법\n",
    "- 트리를 순회한다: 트리에 속하는 모든 노드를 한 번씩 방문하여 노드의 데이터를 목적에 맞게 처리하는 것\n",
    "- 순회는 트리의 가장 기본적인 연산\n",
    " - 선형 자료구조에서는 항목들이 일렬로 저장되어 있기 때문에 순회 방법이 단순하나, 트리에서는 그렇지 않음\n",
    " - 동일한 트리에 대해서도 다양한 순서를 노드들을 방문할 수 있음\n",
    "- 이진트리의 표준 순회에는 전위, 중위, 후위의 3가지 방법이 존재\n",
    " - 루트와 왼쪽 서브트리, 오른쪽 서브트리를 각각 어떤 순서로 방문하느냐에 따라 구분됨\n",
    " - 전위 순회(preorder traversal): VLR\n",
    " - 중위 순회(inorder traversal): LVR\n",
    " - 후위 순회(postorder traveral): LRV\n",
    " - 이진트리에서는 각각의 서브트리도 이진트리이기 때문에 동일한 순회 방법이 적용됨\n",
    "- 트리에서는 순환 기법이 많이 사용됨\n",
    " - 전체 트리 순회에 사용된 알고리즘을 똑같이 서브트리에 적용할 수 있음\n",
    "\n",
    "- 순회 방법의 선택\n",
    " - 트리와 관련된 문제들 중에는 순환 알고리즘만 이용해도 해결되는 것들이 많음\n",
    " - 순서는 중요하지 않고 노드를 전부 방문하기만 하면 된다면 3가지 방법 중 어떤 것이든지 상관없음\n",
    " - 자식 노드를 처리한 다음에 부모 노드를 처리해야하는 문제는 후위순회를 사용해야함\n",
    " - 부모 노드를 처리한 다음 자식 노드를 처리해야 한다면 전위순회를 사용해야함\n",
    " \n",
    "- 레벨 순회\n",
    " - :각 노드를 레벨 순으로 검사하는 방법\n",
    " - 루트 노드의 레벨은 1이고 아래로 내려갈수록 레벨이 증가하며 동일한 레벨에서는 좌에서 우로 방문\n",
    " - 레벨 순회에서는 큐가 사용됨\n",
    " - 트리의 노드를 위에서 아래로, 좌에서 우로 출력하므로 다른 순회 방법에 비해 출력 결과를 이해하기 쉬움\n",
    "\n",
    "#### 트리의 전체 노드 개수, 단말 노드의 수, 높이 계산\n",
    "- 노드 개수 구하기\n",
    " - 이진트리에서 전체 노드의 개수를 세기 위해서는 모든 노드들을 한 번씩 방문해야함\n",
    " - 어떤 노드를 루트로 하는 이진트리의 노드의 개수: 왼쪽 서브트리의 노드수와 오른쪽 서브트리의 노드수에 루트 노드의 수(1)를 더함(후위순회 방식의 순환호출)\n",
    " \n",
    "- 단말 노드 개수 구하기\n",
    " - 순환을 이용하면 단말 노드의 개수도 간단하게 구할 수 있음\n",
    " - 단말 노드는 왼쪽 자식과 오른쪽 자식이 모두 None인 노드\n",
    " - 노드 n이 단말 노드이면 1을 반환하고, 단말 노드가 아니면 자신의 두 서브트리의 단말 노드 개수를 순환 호출을 통해 각각 계산하고, 계산된 두 값이 합이 전체 단말 노드의 개수이므로 이를 반환하면 됨\n",
    " \n",
    "- 트리의 높이 구하기\n",
    " - 트리의 높이를 구하는 알고리즘도 순환을 이용하여 해결할 수 있음(트리의 높이는 후위 순회 구조를 사용)\n",
    " - 루트 노드의 높이를 구하려면 먼저 좌우 서브트리의 높이를 구해야 함\n",
    " - 루트노드를 포함한 현재 트리의 높이: 좌우 서브트리의 높이 중에서 더 높은 값에 1을 더한 값\n",
    " - 서브트리의 높이 계산을 위해서는 순환 호출이 사용됨"
   ]
  },
  {
   "cell_type": "code",
   "execution_count": 2,
   "id": "21bd394b",
   "metadata": {},
   "outputs": [],
   "source": [
    "# 전위 순회 함수\n",
    "def preorder(n) :\n",
    "    if n is not None :\n",
    "        print(n.data, end=' ')\n",
    "        preorder(n.left)\n",
    "        preorder(n.right)"
   ]
  },
  {
   "cell_type": "code",
   "execution_count": 3,
   "id": "5994db92",
   "metadata": {},
   "outputs": [],
   "source": [
    "# 중위 순회 함수\n",
    "def inorder(n) :\n",
    "    if n is not None :\n",
    "        inorder(n.left)\n",
    "        print(n.data, end=' ')\n",
    "        inorder(n.right)"
   ]
  },
  {
   "cell_type": "code",
   "execution_count": 4,
   "id": "0cad596b",
   "metadata": {},
   "outputs": [],
   "source": [
    "# 후위 순회 함수\n",
    "def postorder(n) :\n",
    "    if n is not None :\n",
    "        postorder(n.left)\n",
    "        postorder(n.right)\n",
    "        print(n.data, end=' ')"
   ]
  },
  {
   "cell_type": "code",
   "execution_count": 5,
   "id": "9cb7f9ea",
   "metadata": {},
   "outputs": [],
   "source": [
    "def levelorder(root) :\n",
    "    queue = CircularQueue()\n",
    "    queue.enqueue(root)\n",
    "    while not queue.isEmpty() :\n",
    "        n = queue.dequeue()\n",
    "        if n is not None :\n",
    "            print(n.data, end=' ')\n",
    "            queue.enqueue(n.left)\n",
    "            queue.enqueue(n.right)"
   ]
  },
  {
   "cell_type": "code",
   "execution_count": 6,
   "id": "6d0c2ee4",
   "metadata": {},
   "outputs": [],
   "source": [
    "# 노드 개수 구하기(순환을 이용해 트리의 노드 수를 계산하는 함수)\n",
    "def count_node(n) :\n",
    "    if n is None : \n",
    "        return 0\n",
    "    else : \n",
    "        return 1 + count_node(n.left) + count_node(n.right)"
   ]
  },
  {
   "cell_type": "code",
   "execution_count": 7,
   "id": "2ce52753",
   "metadata": {},
   "outputs": [],
   "source": [
    "# 단말 노드 개수 구하기\n",
    "def count_leaf(n) :\n",
    "    if n is None :\n",
    "        return 0\n",
    "    elif n.left is None and n.right is None :\n",
    "        return 1\n",
    "    else : \n",
    "        return count_leaf(n.left) + count_leaf(n.right)"
   ]
  },
  {
   "cell_type": "code",
   "execution_count": 8,
   "id": "7dac3991",
   "metadata": {},
   "outputs": [],
   "source": [
    "# 트리의 높이 구하기\n",
    "def calc_height(n) :\n",
    "    if n is None : \n",
    "        return 0\n",
    "    hLeft = calc_height(n.left)\n",
    "    hRight = calc_height(n.right)\n",
    "    if (hLeft > hRight) : \n",
    "        return hLeft + 1\n",
    "    else: \n",
    "        return hRight + 1"
   ]
  },
  {
   "cell_type": "code",
   "execution_count": 9,
   "id": "96f91461",
   "metadata": {},
   "outputs": [
    {
     "name": "stdout",
     "output_type": "stream",
     "text": [
      "\n",
      "   In-Order : D B E A F C \n",
      "  Pre-Order : A B D E C F \n",
      " Post-Order : D E B F C A \n",
      "Level-Order : "
     ]
    },
    {
     "ename": "NameError",
     "evalue": "name 'CircularQueue' is not defined",
     "output_type": "error",
     "traceback": [
      "\u001b[1;31m---------------------------------------------------------------------------\u001b[0m",
      "\u001b[1;31mNameError\u001b[0m                                 Traceback (most recent call last)",
      "\u001b[1;32m~\\AppData\\Local\\Temp/ipykernel_2756/3736954513.py\u001b[0m in \u001b[0;36m<module>\u001b[1;34m\u001b[0m\n\u001b[0;32m     14\u001b[0m \u001b[0mpostorder\u001b[0m\u001b[1;33m(\u001b[0m\u001b[0mroot\u001b[0m\u001b[1;33m)\u001b[0m\u001b[1;33m\u001b[0m\u001b[1;33m\u001b[0m\u001b[0m\n\u001b[0;32m     15\u001b[0m \u001b[0mprint\u001b[0m\u001b[1;33m(\u001b[0m\u001b[1;34m'\\nLevel-Order : '\u001b[0m\u001b[1;33m,\u001b[0m \u001b[0mend\u001b[0m\u001b[1;33m=\u001b[0m\u001b[1;34m''\u001b[0m\u001b[1;33m)\u001b[0m\u001b[1;33m\u001b[0m\u001b[1;33m\u001b[0m\u001b[0m\n\u001b[1;32m---> 16\u001b[1;33m \u001b[0mlevelorder\u001b[0m\u001b[1;33m(\u001b[0m\u001b[0mroot\u001b[0m\u001b[1;33m)\u001b[0m\u001b[1;33m\u001b[0m\u001b[1;33m\u001b[0m\u001b[0m\n\u001b[0m\u001b[0;32m     17\u001b[0m \u001b[0mprint\u001b[0m\u001b[1;33m(\u001b[0m\u001b[1;33m)\u001b[0m\u001b[1;33m\u001b[0m\u001b[1;33m\u001b[0m\u001b[0m\n\u001b[0;32m     18\u001b[0m \u001b[1;33m\u001b[0m\u001b[0m\n",
      "\u001b[1;32m~\\AppData\\Local\\Temp/ipykernel_2756/936922150.py\u001b[0m in \u001b[0;36mlevelorder\u001b[1;34m(root)\u001b[0m\n\u001b[0;32m      1\u001b[0m \u001b[1;32mdef\u001b[0m \u001b[0mlevelorder\u001b[0m\u001b[1;33m(\u001b[0m\u001b[0mroot\u001b[0m\u001b[1;33m)\u001b[0m \u001b[1;33m:\u001b[0m\u001b[1;33m\u001b[0m\u001b[1;33m\u001b[0m\u001b[0m\n\u001b[1;32m----> 2\u001b[1;33m     \u001b[0mqueue\u001b[0m \u001b[1;33m=\u001b[0m \u001b[0mCircularQueue\u001b[0m\u001b[1;33m(\u001b[0m\u001b[1;33m)\u001b[0m\u001b[1;33m\u001b[0m\u001b[1;33m\u001b[0m\u001b[0m\n\u001b[0m\u001b[0;32m      3\u001b[0m     \u001b[0mqueue\u001b[0m\u001b[1;33m.\u001b[0m\u001b[0menqueue\u001b[0m\u001b[1;33m(\u001b[0m\u001b[0mroot\u001b[0m\u001b[1;33m)\u001b[0m\u001b[1;33m\u001b[0m\u001b[1;33m\u001b[0m\u001b[0m\n\u001b[0;32m      4\u001b[0m     \u001b[1;32mwhile\u001b[0m \u001b[1;32mnot\u001b[0m \u001b[0mqueue\u001b[0m\u001b[1;33m.\u001b[0m\u001b[0misEmpty\u001b[0m\u001b[1;33m(\u001b[0m\u001b[1;33m)\u001b[0m \u001b[1;33m:\u001b[0m\u001b[1;33m\u001b[0m\u001b[1;33m\u001b[0m\u001b[0m\n\u001b[0;32m      5\u001b[0m         \u001b[0mn\u001b[0m \u001b[1;33m=\u001b[0m \u001b[0mqueue\u001b[0m\u001b[1;33m.\u001b[0m\u001b[0mdequeue\u001b[0m\u001b[1;33m(\u001b[0m\u001b[1;33m)\u001b[0m\u001b[1;33m\u001b[0m\u001b[1;33m\u001b[0m\u001b[0m\n",
      "\u001b[1;31mNameError\u001b[0m: name 'CircularQueue' is not defined"
     ]
    }
   ],
   "source": [
    "# 테스트 프로그램\n",
    "d = TNode('D', None, None)\n",
    "e = TNode('E', None, None)\n",
    "b = TNode('B', d, e)\n",
    "f = TNode('F', None, None)\n",
    "c = TNode('C', f, None)\n",
    "root = TNode('A', b, c)\n",
    "\n",
    "print('\\n   In-Order : ', end='')\n",
    "inorder(root)\n",
    "print('\\n  Pre-Order : ', end='')\n",
    "preorder(root)\n",
    "print('\\n Post-Order : ', end='')\n",
    "postorder(root)\n",
    "print('\\nLevel-Order : ', end='')\n",
    "levelorder(root)\n",
    "print()\n",
    "\n",
    "print(\" 노드의 개수 = %d개\" % count_node(root))\n",
    "print(\" 단말의 개수 = %d개\" % count_leaf(root))\n",
    "print(\" 트리의 높이 = %d\" % calc_height(root))"
   ]
  },
  {
   "cell_type": "markdown",
   "id": "46df65c5",
   "metadata": {},
   "source": [
    "### 이진트리 응용: 모르스 코드 결정트리\n",
    "- 모르스 부호: 도트(점)과 대시(선)의 조합으로 구성된 메시지 전달용 부호\n",
    "- 1830년대 미국이 사뮤엘 모르스에 의해 고안됨\n",
    "- 메시지를 전선을 통해 장거리로 전송할 수 있도록 하여 통신에 혁명을 일으켰으며, 미국 철도 회사들에서 광범위하게 사용됨\n",
    "\n",
    "- 인코딩: 알파벳에서 코드로 변환\n",
    " - 알파벳을 모르스 부호로 변환하는 방법은 간단함\n",
    " - 알파벳을 탐색키로 해당 모르스를 찾는 연산은 O(1)만에 가능함\n",
    "\n",
    "- 디코딩: 모르스 코드에서 알파벳 변환\n",
    " - 모르스 코드가 있을 때 알파벳을 추출하는 방법의 경우 코드에서 .--.에 대한 알파벳을 찾아야하는데 모르스 코드의 .--.의 주소를 바로 계산할 수는 없음\n",
    " - 표의 모든 항목을 조사하여 모르스 코드 .--.가 있는지 검사해야함\n",
    " - 순차탐색이며, 탐색의 시간복잡도는 O(n)\n",
    "\n",
    "- 결정트리를 이용한 모르스 코드의 디코딩\n",
    " - :여러단계의 복잡한 조건을 갖는 문제에 대해 조건과 그에 따른 해결방법을 트리 형태로 나타낸 것\n",
    " - 이 방법으로 코드에서 알파벳을 찾는데 걸리는 시간: O(log2n) \n",
    " - 어떤 코드도 트리의 높이 이상의 이동이 필요하지 않기 때문(단순히 표에서 찾는 방법 (O(n))보다 훨씬 효율적)\n",
    " - 모르스 코드의 결정트리는 이진트리"
   ]
  },
  {
   "cell_type": "code",
   "execution_count": 12,
   "id": "d6d41bb3",
   "metadata": {},
   "outputs": [],
   "source": [
    "table =[('A', '.-'),    ('B', '-...'),  ('C', '-.-.'),  ('D', '-..'),\n",
    "        ('E', '.'),     ('F', '..-.'),  ('G', '--.'),   ('H', '....'),\n",
    "        ('I', '..'),    ('J', '.---'),  ('K', '-.-'),   ('L', '.-..'),\n",
    "        ('M', '--'),    ('N', '-.'),    ('O', '---'),   ('P', '.--.'),\n",
    "        ('Q', '--.-'),  ('R', '.-.'),   ('S', '...'),   ('T', '-'),\n",
    "        ('U', '..-'),   ('V', '...-'),  ('W', '.--'),   ('X', '-..-'),\n",
    "        ('Y', '-.--'),  ('Z', '--..') ]"
   ]
  },
  {
   "cell_type": "code",
   "execution_count": 13,
   "id": "f60683fa",
   "metadata": {},
   "outputs": [],
   "source": [
    "# 모르스 코드의 결정트리\n",
    "def make_morse_tree():\n",
    "    root = TNode( None, None, None )\n",
    "    for tp in table :\n",
    "        code = tp[1]                    \n",
    "        node = root\n",
    "        for c in code :                 \n",
    "            if c == '.' :               \n",
    "                if node.left == None :  \n",
    "                    node.left = TNode (None, None, None)\n",
    "                node = node.left        \n",
    "            elif c == '-' :             \n",
    "                if node.right == None : \n",
    "                    node.right = TNode (None, None, None)\n",
    "                node = node.right     \n",
    "\n",
    "        node.data = tp[0]               \n",
    "    return root"
   ]
  },
  {
   "cell_type": "code",
   "execution_count": 14,
   "id": "2480dbdc",
   "metadata": {},
   "outputs": [],
   "source": [
    "def decode(root, code): # decode: 결정 트리를 이용해 모르스 코드에 대한 문자를 찾는 함수\n",
    "    node = root\n",
    "    for c in code :                 \n",
    "        if c == '.' : node = node.left \n",
    "        elif c=='-' : node = node.right"
   ]
  },
  {
   "cell_type": "code",
   "execution_count": 15,
   "id": "0a797409",
   "metadata": {},
   "outputs": [],
   "source": [
    "def encode(ch): # encode: 문자에 대한 코드를 찾아 반환하는 함수\n",
    "    idx = ord(ch)-ord('A')  # 파이썬 내장 함수 ord(): 문자를 아스키 코드로 바꿔주는 함수\n",
    "    return table[idx][1]"
   ]
  },
  {
   "cell_type": "code",
   "execution_count": 18,
   "id": "9bc98919",
   "metadata": {},
   "outputs": [
    {
     "name": "stdout",
     "output_type": "stream",
     "text": [
      "입력 문장 : GAMEOVER\n",
      "Morse Code:  ['--.', '.-', '--', '.', '---', '...-', '.', '.-.']\n",
      "Decoding  : NoneNoneNoneNoneNoneNoneNoneNone\n"
     ]
    }
   ],
   "source": [
    "morseCodeTree = make_morse_tree()\n",
    "str = input(\"입력 문장 : \")\n",
    "mlist = []\n",
    "for ch in str:\n",
    "    code = encode(ch)\n",
    "    mlist.append(code)\n",
    "print(\"Morse Code: \", mlist)\n",
    "print(\"Decoding  : \", end='')\n",
    "for code in mlist:\n",
    "    ch = decode(morseCodeTree, code)\n",
    "    print(ch, end='')\n",
    "print()"
   ]
  },
  {
   "cell_type": "markdown",
   "id": "59e401c5",
   "metadata": {},
   "source": [
    "### 힙 트리\n",
    "#### 힙이란?\n",
    "- :여러 개의 값들 중에서 가장 큰(또는 작은) 값을 빠르게 찾아내도록 만들어진 자료 구조\n",
    "- 가장 큰 값만 빨리 찾으면 되기 때문에 모든 자료를 힘들게 정렬할 필요가 없음\n",
    "- 이진트리 구조를 가지며, 특히 큰 값이 상위 레벨에 있고 작은 값이 하위 레벨에 있도록 하는 정도의 느슨한 정렬 상태만을 유지\n",
    "- 힙은 최대 힙과 최소 힙으로 나눌 수 있음\n",
    " - 최대 힙: 부모 노드의 키 값이 자식 노드의 기 값보다 크거나 같은 완전이진트리(key(부모노드) >= key(자식노드))\n",
    " - 최소 힙(key(부모노드) <= key(자식노드))\n",
    "- 힙은 완전이진트리\n",
    " - 노드의 개수가 n이라면 힙의 높이는 log2n\n",
    "\n",
    "- 삽입 연산\n",
    " - 힙에 새로운 항목을 삽입하더라도 힙의 순서 특성(최대 힙, 최소 힙)과 트리의 형태적 특성(완전이진트리)를 반드시 유지해야 함\n",
    " - 힙의 순서 특성을 만족하기 위해 마지막 노드로 삽입된 새 항목은 루트 노드까지의 경로에 따라 적절한 위치를 찾을 때까지 부모노드와 교환하면서 위로 올라가야함(시프트업 또는 업힙)\n",
    " - 최악의 경우 루트 노드까지 올라가야 하므로 트리의 높이에 해당하는 비교 연산 및 이동 연산이 필요\n",
    " - 시간 복잡도: O(log2n)\n",
    "- 삭제 연산\n",
    " - :루트 노드를 꺼내는 것\n",
    " - 최악의 경우 트리의 높이에 해당하는 비교가 필요\n",
    " - 시간 복잡도: O(log2n)\n",
    " \n",
    "#### 힙을 저장하는 효과적인 자료구조는 배열이다\n",
    "- 배열을 이용한 힙의 표현\n",
    " - 모든 이진트리를 포화이진트리라고 생각하고 각 노드에 번호를 붙일 수 있음\n",
    " - 힙은 완전이진트이기 떄문에 중간에 비어 있는 요소가 없기 때문에 이 번호를 인덱스로 생각하고 배열 구조에 힙의 노드들을 저장할 수 있음\n",
    " - 힙을 저장하는 효과적인 자료구조: 배열\n",
    "- 배열로 힙을 표현하면 자식과 부모 노드의 위치(인덱스)를 쉽게 계산할 수 있음\n",
    " - 부모의 인덱스 = (자식의 인덱스) / 2\n",
    " - 왼쪽 자식의 인덱스 = (부모의 인덱스) * 2\n",
    " - 오른쪽 자식의 인덱스 = (부모의 인덱스) * 2 + 1\n",
    " \n",
    "- 최대 힙의 구현\n",
    " - 힙은 삽입과 삭제 연산의 시간 복잡도가 모두 O(log2n)으로 매우 효율적\n",
    " - 많은 데이터 중에서 가장 큰 몇 개를 뽑을 때 매우 유용\n",
    " \n",
    "#### 우선순위 큐의 가장 좋은 구현 방법은 힙이다\n",
    "- 힙을 이용해 우선순위 큐를 구현할 수 있음\n",
    "- 삽입 연산 \n",
    " - 정렬되지 않은 배열을 이용하면 삽입이 간단함. 맨 마지막 항목을 추가하기만 하면 되기 때문에 시간 복잡도는 O(1)\n",
    " - 배열을 정렬시키려면 우선순위에 따라 삽입할 위치를 먼저 찾아야 함(시간 복잡도: O(n))\n",
    " - 힙을 이요하면 삽입 연산의 시간 복잡도는 O(log2n)\n",
    "- 삭제 연산\n",
    " - 배열이 정렬되어 있지 않으면 삭제가 번거로움. 먼저 우선순위가 가장 높은 항목을 찾는데 O(n)이 걸림\n",
    " - 배열이 정렬되면 삭제가 단순해짐(단, 우선순위가 가장 높은 항목이 배열의 맨 끝에 있어야 함)\n",
    " - 삭제 연산은 맨 마지막 항목을 꺼내 반환하는 연산으로 항목의 이동이 필요 없으므로 시간 복잡도는 O(1)\n",
    " - 힙을 이용하면 루트를 반환하고 한 번의 다운힙이 필요(다운힙의 시간 복잡도: O(log2n)\n",
    "- 탐색 연산\n",
    " - 정렬되지 않은 배열을 이용하면 먼저 우선순위가 가장 높은 항목을 찾아야 하므로 탐색의 시간복잡도는 O(n)\n",
    " - 배열이 정렬되면 맨 마지막 항목을 반환하면 됨(시간 복잡도: O(1))\n",
    " - 힙은 루트를 반환하면 되므로 탐색 연산의 시간 복잡도는 O(1)\n",
    "- 최악의 경우도 O(log2n)의 시간을 보장해 주기 때문에 우선순위 큐를 구현하는 가장 좋은 방법은 힙"
   ]
  },
  {
   "cell_type": "code",
   "execution_count": 19,
   "id": "4780d2b9",
   "metadata": {},
   "outputs": [
    {
     "name": "stdout",
     "output_type": "stream",
     "text": [
      "[삽입 연산]:  [2, 5, 4, 8, 9, 3, 7, 3]\n",
      "[ 삽입 후 ]:  [9, 8, 7, 3, 5, 3, 4, 2]\n",
      "[ 삭제 후 ]:  [8, 5, 7, 3, 2, 3, 4]\n",
      "[ 삭제 후 ]:  [7, 5, 4, 3, 2, 3]\n"
     ]
    }
   ],
   "source": [
    "# 최대 힙 클래스\n",
    "class MaxHeap :\n",
    "    def __init__ (self) :\n",
    "        self.heap = []\n",
    "        self.heap.append(0)\n",
    "\n",
    "    def size(self) : return len(self.heap) - 1\n",
    "    def isEmpty(self) : return self.size() == 0\n",
    "    def Parent(self, i) : return self.heap[i//2]\n",
    "    def Left(self, i) : return self.heap[i*2]\n",
    "    def Right(self, i) : return self.heap[i*2+1]\n",
    "    def display(self, msg = '힙 트리: ') :\n",
    "        print(msg, self.heap[1:])\n",
    "\n",
    "    def insert(self, n) :\n",
    "        self.heap.append(n)\n",
    "        i = self.size()\n",
    "        while (i != 1 and n > self.Parent(i)): \n",
    "            self.heap[i] = self.Parent(i)  \n",
    "            i = i // 2             \n",
    "        self.heap[i] = n         \n",
    "\n",
    "    def delete(self) :\n",
    "        parent = 1\n",
    "        child = 2\n",
    "        if not self.isEmpty() :\n",
    "            hroot = self.heap[1]    \n",
    "            last = self.heap[self.size()]\n",
    "            while (child <= self.size()):\n",
    "                if child<self.size() and self.Left(parent)<self.Right(parent):\n",
    "                    child += 1\n",
    "                if last >= self.heap[child] :       \n",
    "                    break;                   \n",
    "                self.heap[parent] = self.heap[child]\n",
    "                parent = child\n",
    "                child *= 2;\n",
    "\n",
    "            self.heap[parent] = last\n",
    "            self.heap.pop(-1)  \n",
    "            return hroot   \n",
    "\n",
    "heap = MaxHeap()        \n",
    "data = [2, 5, 4, 8, 9, 3, 7, 3]\n",
    "print(\"[삽입 연산]: \", data)\n",
    "for elem in data :        \n",
    "    heap.insert(elem)\n",
    "heap.display('[ 삽입 후 ]: ')\n",
    "heap.delete()\n",
    "heap.display('[ 삭제 후 ]: ')\n",
    "heap.delete()       \n",
    "heap.display('[ 삭제 후 ]: ')"
   ]
  },
  {
   "cell_type": "markdown",
   "id": "5592c87f",
   "metadata": {},
   "source": [
    "### 힙의 응용: 허프만 코드\n",
    "- 허프만 코딩 트리: 어떤 문서에 있는 각 알파벳의 빈도를 미리 알 수 있다면 이진트리를 이용하여 이 문서를 압축하여 용량을 줄일 수 있는 종류의 이진트리\n",
    "- 코딩된 비트열의 왼쪽에서 오른쪽으로 조사해 보면 정확히 하나의 코드만 일치하는 것을 알 수 있는데, 이러한 종류의 코드를 허프만 코드라고 하고, 허프만 코드를 만들기 위하여 이진트리를 사용할 수 있음\n",
    "- 허프만 코드 알고리즘에서 여러 문자의 빈도수들 중에서 가장 작은 2개를 찾는 과정은 힙 트리를 사용하는 것이 효과적"
   ]
  },
  {
   "cell_type": "code",
   "execution_count": 20,
   "id": "29a49705",
   "metadata": {},
   "outputs": [
    {
     "ename": "NameError",
     "evalue": "name 'MinHeap' is not defined",
     "output_type": "error",
     "traceback": [
      "\u001b[1;31m---------------------------------------------------------------------------\u001b[0m",
      "\u001b[1;31mNameError\u001b[0m                                 Traceback (most recent call last)",
      "\u001b[1;32m~\\AppData\\Local\\Temp/ipykernel_2756/1597468797.py\u001b[0m in \u001b[0;36m<module>\u001b[1;34m\u001b[0m\n\u001b[0;32m     12\u001b[0m \u001b[0mlabel\u001b[0m \u001b[1;33m=\u001b[0m \u001b[1;33m[\u001b[0m \u001b[1;34m'E'\u001b[0m\u001b[1;33m,\u001b[0m \u001b[1;34m'T'\u001b[0m\u001b[1;33m,\u001b[0m \u001b[1;34m'N'\u001b[0m\u001b[1;33m,\u001b[0m \u001b[1;34m'I'\u001b[0m\u001b[1;33m,\u001b[0m \u001b[1;34m'S'\u001b[0m \u001b[1;33m]\u001b[0m\u001b[1;33m\u001b[0m\u001b[1;33m\u001b[0m\u001b[0m\n\u001b[0;32m     13\u001b[0m \u001b[0mfreq\u001b[0m  \u001b[1;33m=\u001b[0m \u001b[1;33m[\u001b[0m\u001b[1;36m15\u001b[0m\u001b[1;33m,\u001b[0m \u001b[1;36m12\u001b[0m\u001b[1;33m,\u001b[0m \u001b[1;36m8\u001b[0m\u001b[1;33m,\u001b[0m \u001b[1;36m6\u001b[0m\u001b[1;33m,\u001b[0m \u001b[1;36m4\u001b[0m \u001b[1;33m]\u001b[0m\u001b[1;33m\u001b[0m\u001b[1;33m\u001b[0m\u001b[0m\n\u001b[1;32m---> 14\u001b[1;33m \u001b[0mmake_tree\u001b[0m\u001b[1;33m(\u001b[0m\u001b[0mfreq\u001b[0m\u001b[1;33m)\u001b[0m\u001b[1;33m\u001b[0m\u001b[1;33m\u001b[0m\u001b[0m\n\u001b[0m",
      "\u001b[1;32m~\\AppData\\Local\\Temp/ipykernel_2756/1597468797.py\u001b[0m in \u001b[0;36mmake_tree\u001b[1;34m(freq)\u001b[0m\n\u001b[0;32m      1\u001b[0m \u001b[1;32mdef\u001b[0m \u001b[0mmake_tree\u001b[0m\u001b[1;33m(\u001b[0m\u001b[0mfreq\u001b[0m\u001b[1;33m)\u001b[0m\u001b[1;33m:\u001b[0m\u001b[1;33m\u001b[0m\u001b[1;33m\u001b[0m\u001b[0m\n\u001b[1;32m----> 2\u001b[1;33m     \u001b[0mheap\u001b[0m \u001b[1;33m=\u001b[0m \u001b[0mMinHeap\u001b[0m\u001b[1;33m(\u001b[0m\u001b[1;33m)\u001b[0m\u001b[1;33m\u001b[0m\u001b[1;33m\u001b[0m\u001b[0m\n\u001b[0m\u001b[0;32m      3\u001b[0m     \u001b[1;32mfor\u001b[0m \u001b[0mn\u001b[0m \u001b[1;32min\u001b[0m \u001b[0mfreq\u001b[0m \u001b[1;33m:\u001b[0m\u001b[1;33m\u001b[0m\u001b[1;33m\u001b[0m\u001b[0m\n\u001b[0;32m      4\u001b[0m         \u001b[0mheap\u001b[0m\u001b[1;33m.\u001b[0m\u001b[0minsert\u001b[0m\u001b[1;33m(\u001b[0m\u001b[0mn\u001b[0m\u001b[1;33m)\u001b[0m\u001b[1;33m\u001b[0m\u001b[1;33m\u001b[0m\u001b[0m\n\u001b[0;32m      5\u001b[0m \u001b[1;33m\u001b[0m\u001b[0m\n",
      "\u001b[1;31mNameError\u001b[0m: name 'MinHeap' is not defined"
     ]
    }
   ],
   "source": [
    "def make_tree(freq):\n",
    "    heap = MinHeap()\n",
    "    for n in freq :\n",
    "        heap.insert(n)\n",
    "\n",
    "    for i in range(0, n) :\n",
    "        e1 = heap.delete()\n",
    "        e2 = heap.delete()\n",
    "        heap.insert(e1 + e2)\n",
    "        print(\" (%d+%d)\" % (e1, e2))\n",
    "\n",
    "label = [ 'E', 'T', 'N', 'I', 'S' ]\n",
    "freq  = [15, 12, 8, 6, 4 ]\n",
    "make_tree(freq)"
   ]
  },
  {
   "cell_type": "code",
   "execution_count": null,
   "id": "49828cdd",
   "metadata": {},
   "outputs": [],
   "source": []
  }
 ],
 "metadata": {
  "kernelspec": {
   "display_name": "Python 3 (ipykernel)",
   "language": "python",
   "name": "python3"
  },
  "language_info": {
   "codemirror_mode": {
    "name": "ipython",
    "version": 3
   },
   "file_extension": ".py",
   "mimetype": "text/x-python",
   "name": "python",
   "nbconvert_exporter": "python",
   "pygments_lexer": "ipython3",
   "version": "3.9.7"
  }
 },
 "nbformat": 4,
 "nbformat_minor": 5
}
